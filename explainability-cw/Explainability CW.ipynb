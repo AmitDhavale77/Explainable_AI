{
 "cells": [
  {
   "cell_type": "markdown",
   "id": "b4907a9b-7f61-4e03-a118-3ca33156b516",
   "metadata": {},
   "source": [
    "# Ethics, Fairness and Explanation in AI Coursework"
   ]
  },
  {
   "cell_type": "markdown",
   "id": "18977034-9183-47c7-993e-9b105ebaf8bc",
   "metadata": {},
   "source": [
    "Your goal in this coursework is to implement and experiment with various explainability approaches in order to better understand the behaviour of a neural model applied to the Titanic dataset. As you will have a chance to observe, the dataset reflects some of the past social conventions and biases, which also affect the trained model. Explanations can serve as very useful tools for identifying such potential issues and gaining insight into the internal reasoning of machine learning systems."
   ]
  },
  {
   "cell_type": "markdown",
   "id": "4c54e2fe-cc8f-4b0d-852a-474e43b5b060",
   "metadata": {},
   "source": [
    "## Data Loading and Preprocessing"
   ]
  },
  {
   "cell_type": "markdown",
   "id": "4f683e86-6c7d-4ce1-9cc9-a3ec171824d8",
   "metadata": {},
   "source": [
    "We start by defining some helpful utility functions for data preprocessing. You will probably not need to change this code."
   ]
  },
  {
   "cell_type": "code",
   "execution_count": 64,
   "id": "e3853c0d-4ab5-41dc-a409-ef3b7dab0911",
   "metadata": {},
   "outputs": [],
   "source": [
    "import numpy as np\n",
    "import pandas as pd\n",
    "import warnings\n",
    "\n",
    "from sklearn.compose import ColumnTransformer\n",
    "from sklearn.pipeline import Pipeline\n",
    "from sklearn.preprocessing import RobustScaler, OneHotEncoder\n",
    "from sklearn.utils import resample\n",
    "\n",
    "\n",
    "class InvertibleColumnTransformer(ColumnTransformer):\n",
    "    \"\"\"\n",
    "    This is an invertible version of a ColumnTransformer from sklearn.\n",
    "    This allows us to recover the original feature values from their normalised\n",
    "    versions in order to better understand the produced explanations.\n",
    "    \"\"\"\n",
    "    def inverse_transform(self, X):\n",
    "        if X.ndim == 1:\n",
    "            X = np.expand_dims(X, axis=0)\n",
    "        if X.shape[1] != len(self.get_feature_names_out()):\n",
    "            raise ValueError(\n",
    "                \"X and the fitted transformer have different numbers of columns\"\n",
    "            )\n",
    "\n",
    "        inverted_X_base = np.zeros((X.shape[0], self.n_features_in_))\n",
    "        columns = [c for cs in self._columns for c in cs]\n",
    "        inverted_X = pd.DataFrame(data=inverted_X_base, columns=columns)\n",
    "        inverted_X = inverted_X.astype('object')\n",
    "        for name, indices in self.output_indices_.items():\n",
    "            transformer = self.named_transformers_.get(name, None)\n",
    "            if transformer is None:\n",
    "                continue\n",
    "\n",
    "            selected_X = X[:, indices.start : indices.stop]\n",
    "            if isinstance(transformer, OneHotEncoder):\n",
    "                # Assumed only one column changing encoder at the end\n",
    "                categories = transformer.inverse_transform(selected_X)\n",
    "                inverted_X.loc[\n",
    "                    :, columns[indices.start : indices.start + len(categories[0])]\n",
    "                ] = categories\n",
    "            else:\n",
    "                # Assumed scaler-type transformer\n",
    "                inverted_X.loc[\n",
    "                    :, [columns[i] for i in range(indices.start, indices.stop)]\n",
    "                ] = transformer.inverse_transform(selected_X)\n",
    "\n",
    "        return inverted_X\n",
    "\n",
    "\n",
    "def preprocess_train_data(\n",
    "    df,\n",
    "    scaled_features=None,\n",
    "    categorical_features=None,\n",
    "    scaler=RobustScaler(quantile_range=(10, 90)),\n",
    "    categorical_encoder=OneHotEncoder(handle_unknown=\"ignore\"),\n",
    "):\n",
    "    \"\"\"\n",
    "    Scales the continuous features using a RobustScaler and one-hot encodes\n",
    "    the categorical features.\n",
    "    \"\"\"\n",
    "    if scaled_features is None and categorical_features is None:\n",
    "        warnings.warn(\"No features specified for preprocessing, using raw data.\")\n",
    "        scaled_features = []\n",
    "        categorical_features = []\n",
    "    elif scaled_features is None:\n",
    "        scaled_features = [c for c in df.columns if c not in categorical_features]\n",
    "    elif categorical_features is None:\n",
    "        categorical_features = [c for c in df.columns if c not in scaled_features]\n",
    "\n",
    "    preprocessor = InvertibleColumnTransformer(\n",
    "        transformers=[\n",
    "            (\"num\", scaler, scaled_features),\n",
    "            (\"cat\", categorical_encoder, categorical_features),\n",
    "        ],\n",
    "        remainder=\"passthrough\",\n",
    "    )\n",
    "\n",
    "    preprocessed_df = preprocessor.fit_transform(df)\n",
    "    return preprocessed_df, preprocessor\n",
    "\n",
    "\n",
    "def preprocess_test_data(df, preprocessor):\n",
    "    preprocessed_df = preprocessor.transform(df)\n",
    "    return preprocessed_df"
   ]
  },
  {
   "cell_type": "markdown",
   "id": "df35c3a2-09c0-4a14-9f83-e81db1d544a1",
   "metadata": {},
   "source": [
    "Here, we define a class for the Titanic dataset, which we will be using throughout the coursework."
   ]
  },
  {
   "cell_type": "code",
   "execution_count": 65,
   "id": "22f7f44d-1cbe-4e25-9f7c-7bbe8c2d4cc6",
   "metadata": {},
   "outputs": [],
   "source": [
    "import os\n",
    "import pandas as pd\n",
    "import torch\n",
    "\n",
    "from sklearn.model_selection import train_test_split\n",
    "from torch.utils.data import Dataset, DataLoader\n",
    "\n",
    "\n",
    "class TitanicDataset(Dataset):\n",
    "    \"\"\"\n",
    "    Loads and preprocesses the Titanic dataset.\n",
    "    \"\"\"\n",
    "    __create_key = object()\n",
    "\n",
    "    @classmethod\n",
    "    def create_datasets(\n",
    "        cls,\n",
    "        label_name=\"survived\",\n",
    "        split_seed=42,\n",
    "        test_size=0.2,\n",
    "    ):\n",
    "        train_dataset = TitanicDataset(\n",
    "            cls.__create_key,\n",
    "            label_name=label_name,\n",
    "            split_seed=split_seed,\n",
    "            test_size=test_size,\n",
    "            train=True,\n",
    "        )\n",
    "        test_dataset = TitanicDataset(\n",
    "            cls.__create_key,\n",
    "            label_name=label_name,\n",
    "            split_seed=split_seed,\n",
    "            test_size=test_size,\n",
    "            train=False,\n",
    "        )\n",
    "        return train_dataset, test_dataset\n",
    "\n",
    "    def __init__(\n",
    "        self,\n",
    "        create_key=None,\n",
    "        label_name=\"Survived\",\n",
    "        split_seed=42,\n",
    "        test_size=0.2,\n",
    "        train=True,\n",
    "    ):\n",
    "        # Ensure that the dataset is being constructed properly\n",
    "        if create_key != TitanicDataset.__create_key:\n",
    "            raise ValueError(\n",
    "                \"Illegal initialisation attempt — please use create_datasets to initialise.\"\n",
    "            )\n",
    "\n",
    "        try:\n",
    "            data_df = pd.read_csv(\"titanic-dataset.csv\")\n",
    "        except FileNotFoundError:\n",
    "            raise FileNotFoundError(\"Titanic data file not found.\")\n",
    "\n",
    "        # Split the dataset into train and test\n",
    "        x = data_df.drop(columns=[label_name, \"name\", \"ticket\", \"cabin\", \"embarked\", \"boat\", \"body\", \"home.dest\"])\n",
    "        # For the purposes of this coursework, we just impute the missing age and fare with a median value\n",
    "        x[['age']] = x[['age']].fillna(x[['age']].median())\n",
    "        x[['fare']] = x[['fare']].fillna(x[['fare']].median())\n",
    "        y = data_df[label_name]\n",
    "        x_train, x_test, y_train, y_test = train_test_split(\n",
    "            x, y, test_size=test_size, random_state=split_seed, shuffle=True\n",
    "        )\n",
    "        if train:\n",
    "            self.raw_data = x_train, y_train\n",
    "        else:\n",
    "            self.raw_data = x_test, y_test\n",
    "\n",
    "        # Preprocess the data\n",
    "        x_train_processed, preprocessor = preprocess_train_data(\n",
    "            x_train, categorical_features=[\"sex\"]\n",
    "        )\n",
    "        x_train = pd.DataFrame(\n",
    "            x_train_processed, columns=preprocessor.get_feature_names_out()\n",
    "        )\n",
    "        x_test_processed = preprocess_test_data(x_test, preprocessor)\n",
    "        x_test = pd.DataFrame(\n",
    "            x_test_processed, columns=preprocessor.get_feature_names_out()\n",
    "        )\n",
    "\n",
    "        # Select data partition and convert to tensors\n",
    "        if train:\n",
    "            samples = x_train\n",
    "            labels = y_train\n",
    "        else:\n",
    "            samples = x_test\n",
    "            labels = y_test\n",
    "        self.samples = torch.tensor(samples.to_numpy(), dtype=torch.float32)\n",
    "        self.labels = torch.tensor(labels.to_numpy(), dtype=torch.long)\n",
    "        self.features = preprocessor.get_feature_names_out()\n",
    "        self.preprocessor = preprocessor\n",
    "\n",
    "    def __len__(self):\n",
    "        return len(self.samples)\n",
    "\n",
    "    def __getitem__(self, idx):\n",
    "        return self.samples[idx], self.labels[idx]"
   ]
  },
  {
   "cell_type": "markdown",
   "id": "c00c7c1f-81f5-4806-ad20-358a79df93e6",
   "metadata": {},
   "source": [
    "Finally, we call the code above to load and preprocess the data."
   ]
  },
  {
   "cell_type": "code",
   "execution_count": 66,
   "id": "2ae2d1e0-ddab-419b-b741-6d4d6b531bb8",
   "metadata": {},
   "outputs": [],
   "source": [
    "train_dataset, test_dataset = TitanicDataset.create_datasets(\n",
    "    test_size=0.2,\n",
    "    split_seed=42,\n",
    ")\n",
    "train_dl = DataLoader(\n",
    "    dataset=train_dataset,\n",
    "    batch_size=128,\n",
    "    shuffle=False,\n",
    ")\n",
    "test_dl = DataLoader(\n",
    "    dataset=test_dataset,\n",
    "    batch_size=64,\n",
    "    shuffle=False,\n",
    ")"
   ]
  },
  {
   "cell_type": "markdown",
   "id": "a4283a2e-986b-4554-89e3-3a0c4c152cbb",
   "metadata": {},
   "source": [
    "Note that the invertible transformer allows you to recover the original (unnormalised) feature values, as shown on the example below. You may find this helpful for understanding the produced explanations and commenting on them in your report."
   ]
  },
  {
   "cell_type": "code",
   "execution_count": 67,
   "id": "88f85249-8c4b-46b0-a856-76c972f524e2",
   "metadata": {},
   "outputs": [
    {
     "data": {
      "text/html": [
       "<div>\n",
       "<style scoped>\n",
       "    .dataframe tbody tr th:only-of-type {\n",
       "        vertical-align: middle;\n",
       "    }\n",
       "\n",
       "    .dataframe tbody tr th {\n",
       "        vertical-align: top;\n",
       "    }\n",
       "\n",
       "    .dataframe thead th {\n",
       "        text-align: right;\n",
       "    }\n",
       "</style>\n",
       "<table border=\"1\" class=\"dataframe\">\n",
       "  <thead>\n",
       "    <tr style=\"text-align: right;\">\n",
       "      <th></th>\n",
       "      <th>pclass</th>\n",
       "      <th>age</th>\n",
       "      <th>sibsp</th>\n",
       "      <th>parch</th>\n",
       "      <th>fare</th>\n",
       "      <th>sex</th>\n",
       "    </tr>\n",
       "  </thead>\n",
       "  <tbody>\n",
       "    <tr>\n",
       "      <th>0</th>\n",
       "      <td>3.0</td>\n",
       "      <td>35.0</td>\n",
       "      <td>0.0</td>\n",
       "      <td>0.0</td>\n",
       "      <td>7.125</td>\n",
       "      <td>male</td>\n",
       "    </tr>\n",
       "    <tr>\n",
       "      <th>1</th>\n",
       "      <td>3.0</td>\n",
       "      <td>20.0</td>\n",
       "      <td>1.0</td>\n",
       "      <td>1.0</td>\n",
       "      <td>15.7417</td>\n",
       "      <td>male</td>\n",
       "    </tr>\n",
       "    <tr>\n",
       "      <th>2</th>\n",
       "      <td>3.0</td>\n",
       "      <td>28.0</td>\n",
       "      <td>0.0</td>\n",
       "      <td>0.0</td>\n",
       "      <td>7.8958</td>\n",
       "      <td>male</td>\n",
       "    </tr>\n",
       "    <tr>\n",
       "      <th>3</th>\n",
       "      <td>3.0</td>\n",
       "      <td>28.0</td>\n",
       "      <td>0.0</td>\n",
       "      <td>0.0</td>\n",
       "      <td>8.05</td>\n",
       "      <td>male</td>\n",
       "    </tr>\n",
       "    <tr>\n",
       "      <th>4</th>\n",
       "      <td>3.0</td>\n",
       "      <td>28.0</td>\n",
       "      <td>0.0</td>\n",
       "      <td>0.0</td>\n",
       "      <td>7.75</td>\n",
       "      <td>male</td>\n",
       "    </tr>\n",
       "  </tbody>\n",
       "</table>\n",
       "</div>"
      ],
      "text/plain": [
       "  pclass   age sibsp parch     fare   sex\n",
       "0    3.0  35.0   0.0   0.0    7.125  male\n",
       "1    3.0  20.0   1.0   1.0  15.7417  male\n",
       "2    3.0  28.0   0.0   0.0   7.8958  male\n",
       "3    3.0  28.0   0.0   0.0     8.05  male\n",
       "4    3.0  28.0   0.0   0.0     7.75  male"
      ]
     },
     "execution_count": 67,
     "metadata": {},
     "output_type": "execute_result"
    }
   ],
   "source": [
    "test_dataset.preprocessor.inverse_transform(test_dataset.samples[:5])"
   ]
  },
  {
   "cell_type": "markdown",
   "id": "441756a7-f828-4764-af69-4eb84b63a975",
   "metadata": {},
   "source": [
    "## Exploratory Data Analysis"
   ]
  },
  {
   "cell_type": "markdown",
   "id": "93538903-f8cc-4f39-9593-f0ee82096b75",
   "metadata": {},
   "source": [
    "When faced with a new dataset, it is a good practice to perform an exploratory data analysis in order to understand the basic trends in the data. This will also allow you to put the explanations you obtain as part of this coursework into the relevant context. We will use the raw, unnormalised features for this purpose, as they are much more intuitive and human-understandable."
   ]
  },
  {
   "cell_type": "code",
   "execution_count": 68,
   "id": "a82a5efb-2ce7-4428-a03f-ee0f61f6dca0",
   "metadata": {},
   "outputs": [],
   "source": [
    "x_train, y_train = train_dataset.raw_data\n",
    "x_train['survived'] = y_train\n",
    "data_df = x_train"
   ]
  },
  {
   "cell_type": "markdown",
   "id": "bdf759d8-e225-4482-a8ba-93d0a604d32e",
   "metadata": {},
   "source": [
    "We start by displaying the feature values and labels for a few samples. The dataset contains data regarding the survival of some of the passengers involved in the [Titanic maritime disaster](https://en.wikipedia.org/wiki/Sinking_of_the_Titanic). The features contained in the data are as follows:\n",
    "* `pclass`: Indicates the travelling class of the given passenger. Note that we treat this feature as numerical, as the different classes introduce a natural order.\n",
    "* `sex`: Indicates the sex of the passenger.\n",
    "* `age`: Provides the age of the passenger.\n",
    "* `sibsp`: Denotes the total number of siblings and spouses of the given passenger also travelling on RMS Titanic.\n",
    "* `parch`: Denotes the total number of parents or children of the given passenger also travelling on RMS Titanic.\n",
    "* `fare`: Indicates the fare paid by the passenger for the journey.\n",
    "* `survived`: The label indicating whether the patient survived the accident (1 = survived, 0 = did not survive).\n",
    "\n",
    "There are other features included in the original dataset (such aspassenger name or point of embarkation), but we choose to ignore them for the purposes of this coursework."
   ]
  },
  {
   "cell_type": "code",
   "execution_count": null,
   "id": "9bc9b42a-9f57-4502-8d00-9fda6bdb34cf",
   "metadata": {},
   "outputs": [
    {
     "data": {
      "text/html": [
       "<div>\n",
       "<style scoped>\n",
       "    .dataframe tbody tr th:only-of-type {\n",
       "        vertical-align: middle;\n",
       "    }\n",
       "\n",
       "    .dataframe tbody tr th {\n",
       "        vertical-align: top;\n",
       "    }\n",
       "\n",
       "    .dataframe thead th {\n",
       "        text-align: right;\n",
       "    }\n",
       "</style>\n",
       "<table border=\"1\" class=\"dataframe\">\n",
       "  <thead>\n",
       "    <tr style=\"text-align: right;\">\n",
       "      <th></th>\n",
       "      <th>pclass</th>\n",
       "      <th>sex</th>\n",
       "      <th>age</th>\n",
       "      <th>sibsp</th>\n",
       "      <th>parch</th>\n",
       "      <th>fare</th>\n",
       "      <th>survived</th>\n",
       "    </tr>\n",
       "  </thead>\n",
       "  <tbody>\n",
       "    <tr>\n",
       "      <th>772</th>\n",
       "      <td>3</td>\n",
       "      <td>male</td>\n",
       "      <td>17.0</td>\n",
       "      <td>0</td>\n",
       "      <td>0</td>\n",
       "      <td>7.8958</td>\n",
       "      <td>0</td>\n",
       "    </tr>\n",
       "    <tr>\n",
       "      <th>543</th>\n",
       "      <td>2</td>\n",
       "      <td>male</td>\n",
       "      <td>36.0</td>\n",
       "      <td>0</td>\n",
       "      <td>0</td>\n",
       "      <td>10.5000</td>\n",
       "      <td>0</td>\n",
       "    </tr>\n",
       "    <tr>\n",
       "      <th>289</th>\n",
       "      <td>1</td>\n",
       "      <td>female</td>\n",
       "      <td>18.0</td>\n",
       "      <td>0</td>\n",
       "      <td>2</td>\n",
       "      <td>79.6500</td>\n",
       "      <td>1</td>\n",
       "    </tr>\n",
       "    <tr>\n",
       "      <th>10</th>\n",
       "      <td>1</td>\n",
       "      <td>male</td>\n",
       "      <td>47.0</td>\n",
       "      <td>1</td>\n",
       "      <td>0</td>\n",
       "      <td>227.5250</td>\n",
       "      <td>0</td>\n",
       "    </tr>\n",
       "    <tr>\n",
       "      <th>147</th>\n",
       "      <td>1</td>\n",
       "      <td>male</td>\n",
       "      <td>28.0</td>\n",
       "      <td>0</td>\n",
       "      <td>0</td>\n",
       "      <td>42.4000</td>\n",
       "      <td>0</td>\n",
       "    </tr>\n",
       "    <tr>\n",
       "      <th>...</th>\n",
       "      <td>...</td>\n",
       "      <td>...</td>\n",
       "      <td>...</td>\n",
       "      <td>...</td>\n",
       "      <td>...</td>\n",
       "      <td>...</td>\n",
       "      <td>...</td>\n",
       "    </tr>\n",
       "    <tr>\n",
       "      <th>1095</th>\n",
       "      <td>3</td>\n",
       "      <td>female</td>\n",
       "      <td>28.0</td>\n",
       "      <td>0</td>\n",
       "      <td>0</td>\n",
       "      <td>7.6292</td>\n",
       "      <td>0</td>\n",
       "    </tr>\n",
       "    <tr>\n",
       "      <th>1130</th>\n",
       "      <td>3</td>\n",
       "      <td>female</td>\n",
       "      <td>18.0</td>\n",
       "      <td>0</td>\n",
       "      <td>0</td>\n",
       "      <td>7.7750</td>\n",
       "      <td>0</td>\n",
       "    </tr>\n",
       "    <tr>\n",
       "      <th>1294</th>\n",
       "      <td>3</td>\n",
       "      <td>male</td>\n",
       "      <td>28.5</td>\n",
       "      <td>0</td>\n",
       "      <td>0</td>\n",
       "      <td>16.1000</td>\n",
       "      <td>0</td>\n",
       "    </tr>\n",
       "    <tr>\n",
       "      <th>860</th>\n",
       "      <td>3</td>\n",
       "      <td>female</td>\n",
       "      <td>26.0</td>\n",
       "      <td>0</td>\n",
       "      <td>0</td>\n",
       "      <td>7.9250</td>\n",
       "      <td>1</td>\n",
       "    </tr>\n",
       "    <tr>\n",
       "      <th>1126</th>\n",
       "      <td>3</td>\n",
       "      <td>female</td>\n",
       "      <td>28.0</td>\n",
       "      <td>0</td>\n",
       "      <td>0</td>\n",
       "      <td>7.8958</td>\n",
       "      <td>0</td>\n",
       "    </tr>\n",
       "  </tbody>\n",
       "</table>\n",
       "<p>1047 rows × 7 columns</p>\n",
       "</div>"
      ],
      "text/plain": [
       "      pclass     sex   age  sibsp  parch      fare  survived\n",
       "772        3    male  17.0      0      0    7.8958         0\n",
       "543        2    male  36.0      0      0   10.5000         0\n",
       "289        1  female  18.0      0      2   79.6500         1\n",
       "10         1    male  47.0      1      0  227.5250         0\n",
       "147        1    male  28.0      0      0   42.4000         0\n",
       "...      ...     ...   ...    ...    ...       ...       ...\n",
       "1095       3  female  28.0      0      0    7.6292         0\n",
       "1130       3  female  18.0      0      0    7.7750         0\n",
       "1294       3    male  28.5      0      0   16.1000         0\n",
       "860        3  female  26.0      0      0    7.9250         1\n",
       "1126       3  female  28.0      0      0    7.8958         0\n",
       "\n",
       "[1047 rows x 7 columns]"
      ]
     },
     "execution_count": 69,
     "metadata": {},
     "output_type": "execute_result"
    }
   ],
   "source": [
    "data_df"
   ]
  },
  {
   "cell_type": "markdown",
   "id": "57d8e9c2-2266-40c2-9d91-3bd25e633eb2",
   "metadata": {},
   "source": [
    "Let us visualise the correlation between the individual columns of the data, computed using the [Pearson correlation coefficient](https://en.wikipedia.org/wiki/Pearson_correlation_coefficient). Note that we excluded the `sex` feature from this visualisation, as it is categorical."
   ]
  },
  {
   "cell_type": "code",
   "execution_count": 70,
   "id": "465f7fb2-3f81-4f9a-9ff9-09f45d3a50e1",
   "metadata": {},
   "outputs": [
    {
     "data": {
      "image/png": "[encoded data removed]",
      "text/plain": [
       "<Figure size 640x480 with 2 Axes>"
      ]
     },
     "metadata": {},
     "output_type": "display_data"
    }
   ],
   "source": [
    "import matplotlib.pyplot as plt\n",
    "import seaborn as sns\n",
    "\n",
    "corr = data_df.drop(columns=[\"sex\"]).corr()\n",
    "sns.heatmap(\n",
    "    corr,\n",
    "    xticklabels=corr.columns.values,\n",
    "    yticklabels=corr.columns.values,\n",
    "    annot=True,\n",
    "    fmt='.2g',\n",
    ")\n",
    "plt.show()"
   ]
  },
  {
   "cell_type": "markdown",
   "id": "eba12652-00ee-42f2-b37c-7aabbd7d6b17",
   "metadata": {},
   "source": [
    "Since the previous plot does not include the categorical `sex` column, we also separately visualise its distribution, including the associated labels."
   ]
  },
  {
   "cell_type": "code",
   "execution_count": null,
   "id": "93e255d4-c9d4-4588-aeb3-f563c202b595",
   "metadata": {},
   "outputs": [
    {
     "data": {
      "image/png": "[encoded data removed]",
      "text/plain": [
       "<Figure size 640x480 with 1 Axes>"
      ]
     },
     "metadata": {},
     "output_type": "display_data"
    }
   ],
   "source": [
    "import matplotlib.pyplot as plt\n",
    "import pandas as pd\n",
    "\n",
    "grouped = data_df.groupby(['sex', 'survived']).size().unstack()\n",
    "\n",
    "# Plotting\n",
    "ax = grouped.plot(kind='bar', stacked=True, color=['#a51900', '#02893b'], xlabel=\"Sex\", ylabel=\"Count\")\n",
    "plt.legend(['No', 'Yes'], title=\"Survived\")\n",
    "\n",
    "# Adding annotations\n",
    "for p in ax.patches:\n",
    "    width, height = p.get_width(), p.get_height()\n",
    "    x, y = p.get_xy()\n",
    "    ax.text(x + width/2, y + height/2, f'{int(height)}\\n({height/grouped.sum().sum()*100:.1f}%)', \n",
    "            horizontalalignment='center', verticalalignment='center')\n",
    "\n",
    "plt.show()"
   ]
  },
  {
   "cell_type": "markdown",
   "id": "ec2dc6b6-a871-4509-8049-52d84833c417",
   "metadata": {},
   "source": [
    "**Task 1(a)**: <br />\n",
    "**(i)** Considering the above visualisations, are there any trends or patterns that you can identify in the data? <br />\n",
    "**(ii)** Without having access to any particular model or the associated explanations, which features would you expect to be the most and least important for a neural network trained on the dataset? How can you tell and how certain can you be of your assessment? <br />\n",
    "**(iii)** Apart from inspecting the above plots, is there anything else you could do as part of the exploratory analysis that would allow you to better understand the data and the behaviour of the models trained on it? <br />\n",
    "Please write your answers in a few sentences."
   ]
  },
  {
   "cell_type": "markdown",
   "id": "64a7e4a2-988d-4580-9fb9-a93f76c3164b",
   "metadata": {},
   "source": [
    "## Model Initialisation and Training"
   ]
  },
  {
   "cell_type": "markdown",
   "id": "4435873c-e279-45c9-b2b0-38faedba32ac",
   "metadata": {},
   "source": [
    "First, we define a global device variable to enable running this code on a GPU or a CPU, as needed."
   ]
  },
  {
   "cell_type": "code",
   "execution_count": 72,
   "id": "65a56bef-3daa-44aa-8e57-d001b3bff2ff",
   "metadata": {},
   "outputs": [
    {
     "name": "stdout",
     "output_type": "stream",
     "text": [
      "cpu\n"
     ]
    }
   ],
   "source": [
    "DEVICE = torch.device(\"cuda\" if torch.cuda.is_available() else \"cpu\")\n",
    "\n",
    "print(DEVICE)"
   ]
  },
  {
   "cell_type": "markdown",
   "id": "17a96541-7047-4c2b-845f-b823f4a8b239",
   "metadata": {},
   "source": [
    "Here, we define several utility functions for constructing, training and evaluating neural networks."
   ]
  },
  {
   "cell_type": "code",
   "execution_count": 73,
   "id": "395dd993-e2e1-46a8-b727-9f646ce4e409",
   "metadata": {},
   "outputs": [],
   "source": [
    "import torch\n",
    "import torch.nn as nn\n",
    "\n",
    "from torcheval.metrics.functional import binary_f1_score, binary_accuracy, binary_auroc\n",
    "from tqdm.auto import tqdm\n",
    "\n",
    "def construct_nn(nn_dims, activation_fun):\n",
    "    \"\"\"\n",
    "    Constructs a neural network with the specified architecture.\n",
    "    \"\"\"\n",
    "    layers = []\n",
    "    for i in range(1, len(nn_dims)):\n",
    "        in_dim, out_dim = nn_dims[i-1], nn_dims[i]\n",
    "        layers.append(nn.Linear(in_dim, out_dim))\n",
    "        layers.append(activation_fun())\n",
    "    # Remove the last activation layer and add Sigmoid instead\n",
    "    layers = layers[:-1]\n",
    "    layers.append(nn.Sigmoid())\n",
    "    \n",
    "    return nn.Sequential(*layers).to(DEVICE)\n",
    "\n",
    "def train_nn(model, train_dl, num_epochs=100):\n",
    "    \"\"\"\n",
    "    Trains a neural network using the data from the provided data loader.\n",
    "    \"\"\"\n",
    "    loss_fun = nn.BCELoss()\n",
    "    opt = torch.optim.AdamW(model.parameters(), lr=0.005)\n",
    "    model.train()\n",
    "    \n",
    "    losses = []\n",
    "    for epoch in tqdm(range(num_epochs), leave=False):\n",
    "        total_loss = 0\n",
    "        for i, (x, y) in list(enumerate(train_dl)):\n",
    "            x, y = x.to(DEVICE), y.to(DEVICE)\n",
    "            opt.zero_grad()\n",
    "            out = model(x)\n",
    "            loss = loss_fun(out.squeeze(-1), y.float())\n",
    "            total_loss += loss.item()\n",
    "            loss.backward()\n",
    "            opt.step()\n",
    "            opt.zero_grad()\n",
    "        losses.append(total_loss)\n",
    "\n",
    "def eval_nn(model, test_dataset):\n",
    "    \"\"\"\n",
    "    Evaluates binary classification performance of a model on the given\n",
    "    test dataset.\n",
    "    \"\"\"\n",
    "    model.eval()\n",
    "\n",
    "    loss_fun = nn.BCELoss()\n",
    "    predictions = model(test_dataset.samples.to(DEVICE))\n",
    "    labels = test_dataset.labels.unsqueeze(-1).to(DEVICE)\n",
    "    loss = loss_fun(predictions, labels.float()).item()\n",
    "\n",
    "    predictions = predictions.squeeze(-1).detach()\n",
    "    labels = labels.squeeze(-1).detach()\n",
    "    f1 = binary_f1_score(predictions, labels).item()\n",
    "    accuracy = binary_accuracy(predictions, labels).item()\n",
    "    auc = binary_auroc(predictions, labels).item()\n",
    "\n",
    "    return loss, f1, accuracy, auc"
   ]
  },
  {
   "cell_type": "markdown",
   "id": "f3495eeb-14fa-4ae2-aaaf-b24c64ab8ef9",
   "metadata": {},
   "source": [
    "In this cell, we initialise and train the neural model that we will be explaining in this coursework. For a real-world application, you would typically wish to perform a full hyperparameter search in order to identify the most effective model architecture. However, achieving a maximum performance is not the objective of this coursework, so we just pre-define a model that performs reasonably well on the given task."
   ]
  },
  {
   "cell_type": "code",
   "execution_count": 74,
   "id": "68254f96-7821-4a53-8615-2edbfee294ba",
   "metadata": {},
   "outputs": [
    {
     "name": "stdout",
     "output_type": "stream",
     "text": [
      "———————[ Model training ]———————\n"
     ]
    },
    {
     "data": {
      "application/vnd.jupyter.widget-view+json": {
       "model_id": "e130ade5ed4a46b48c25dd6412b45b74",
       "version_major": 2,
       "version_minor": 0
      },
      "text/plain": [
       "  0%|          | 0/1000 [00:00<?, ?it/s]"
      ]
     },
     "metadata": {},
     "output_type": "display_data"
    },
    {
     "name": "stdout",
     "output_type": "stream",
     "text": [
      "Training completed!\n",
      "\n",
      "———————[ Evaluation ]———————\n",
      "F1 score: 0.75\n",
      "Accuracy: 0.80\n",
      "AUC: 0.83\n"
     ]
    }
   ],
   "source": [
    "def print_metric(name, value):\n",
    "    print(f\"{name}: {'{:.2f}'.format(round(value, 2))}\")\n",
    "\n",
    "torch.manual_seed(42)\n",
    "np.random.seed(42)\n",
    "model = construct_nn([7, 256, 256, 1], nn.ReLU).to(DEVICE)\n",
    "\n",
    "print(\"———————[ Model training ]———————\")\n",
    "train_nn(model, train_dl, num_epochs=1000)\n",
    "print(\"Training completed!\")\n",
    "print()\n",
    "\n",
    "print(\"———————[ Evaluation ]———————\")\n",
    "test_loss, f1, accuracy, auc = eval_nn(model, test_dataset)\n",
    "print_metric(\"F1 score\", f1)\n",
    "print_metric(\"Accuracy\", accuracy)\n",
    "print_metric(\"AUC\", auc)"
   ]
  },
  {
   "cell_type": "markdown",
   "id": "f6034c1b-500d-4e02-a6e7-742d62208c8e",
   "metadata": {},
   "source": [
    "## Feature Attributions"
   ]
  },
  {
   "cell_type": "markdown",
   "id": "02fa2e83-1342-4a8c-b1e7-d1188455eeb6",
   "metadata": {},
   "source": [
    "In this section of the coursework, you will implement SHAP as introduced in the lectures and conduct additional experiments with various feature attribution methods."
   ]
  },
  {
   "cell_type": "markdown",
   "id": "579e7328-82bd-41aa-bcb9-6488e575c3f4",
   "metadata": {},
   "source": [
    "### SHAP Implementation"
   ]
  },
  {
   "cell_type": "markdown",
   "id": "5ecf73aa-f5e3-4c36-9875-19e38c5d5c99",
   "metadata": {},
   "source": [
    "**Task 2(a)(i)**: As a first step in implementing SHAP, define a `compute_coefficient` function to compute the SHAP coalition coefficient/weight as specified by the formula from the lectures:\n",
    "\n",
    "$$g_{SHAP}(\\mathcal{M},\\mathbf{x},i) = \\sum_{\\mathbf{z} \\subseteq \\mathbf{x}}{\\frac{|\\mathbf{z}|!(n - |\\mathbf{z}| - 1)! }{n!} \\mathcal{M}( \\mathbf{z}) - \\mathcal{M}(\\mathbf{z}_{-i})} \\nonumber$$"
   ]
  },
  {
   "cell_type": "code",
   "execution_count": 75,
   "id": "564deb60-0275-4b75-a2a8-b2e61ef4563c",
   "metadata": {},
   "outputs": [],
   "source": [
    "import math\n",
    "\n",
    "def compute_coefficient(num_in_coalition, total_features):\n",
    "    \"\"\"\n",
    "    Computes the SHAP coefficient for a coalition.\n",
    "\n",
    "    Parameters:\n",
    "        num_in_coalition (int): The number of features in the given coalition\n",
    "        total_features (int): The total number of considered features\n",
    "\n",
    "    Returns:\n",
    "        coefficient (float): The SHAP weight for the given coalition\n",
    "    \"\"\"\n",
    "    # TODO: Your code here\n",
    "\n",
    "    if total_features == 0:\n",
    "        return 0.0  # Avoid division by zero\n",
    "\n",
    "    numerator = math.factorial(num_in_coalition) * math.factorial(total_features - num_in_coalition - 1)\n",
    "    denominator = math.factorial(total_features)\n",
    "    \n",
    "    return numerator / denominator\n",
    "    "
   ]
  },
  {
   "cell_type": "markdown",
   "id": "b8131b77-5eac-471c-a1a8-ff138f4b4541",
   "metadata": {},
   "source": [
    "**Task 2(a)(ii)**: Next, define a function `generate_coalitions`, which will return the list representing all the possible coalitions for a possible feature.\n",
    "\n",
    "Hint #1: You may find it helpful to use [itertools](https://docs.python.org/3/library/itertools.html) and [Python generators](https://wiki.python.org/moin/Generators) for implementing this function.\n",
    "\n",
    "Hint #2: Passing a full list of feature IDs is not strictly necessary here, but you will find this list helpful for implementing other functions, so we also recommend taking it as a parameter here. As an example, for the Titanic dataset, this list could look like `[0, 1, 2, 3, 4, 5, 5]` (note the repeated `5` for the one-hot-encoded `sex` feature)."
   ]
  },
  {
   "cell_type": "code",
   "execution_count": null,
   "id": "d3e60209-d01b-4947-bba5-e13b5385d43f",
   "metadata": {},
   "outputs": [],
   "source": [
    "import itertools\n",
    "\n",
    "def generate_coalitions(feature_ids, target_feature_id):\n",
    "    \"\"\"\n",
    "    Generates the possible feature coalitions for the purpose of computing the Shapley value\n",
    "    for the target feature.\n",
    "\n",
    "    Parameters:\n",
    "        feature_ids (list): A list with feature IDs from 0 to N (where N is\n",
    "            the total number of features) identifying the used features. Distinct\n",
    "            columns for one-hot-encoded features should be assigned the same\n",
    "            numerical ID.\n",
    "        target_feature_id (int): The ID of the removed feature for which the coalitions\n",
    "            should be generated.\n",
    "\n",
    "    Retruns:\n",
    "        coalitions (list): A nested list structure of coalitions in the form:\n",
    "            [(set(coalition 1 in features set), set(coalition 1 out features set)), ...].\n",
    "            Note that feature_id should not appear in either of the in/out lists.\n",
    "    \"\"\"\n",
    "    \n",
    "    # TODO: Your code here\n",
    "    coalitions = []\n",
    "    \n",
    "    # Exclude the target feature ID from the list of feature_ids\n",
    "    remaining_features = [feature for feature in feature_ids if feature != target_feature_id]\n",
    "    \n",
    "    # Generate all subsets of remaining features\n",
    "    for subset_size in range(1, len(remaining_features) + 1):\n",
    "        # Iterate through all combinations of the remaining features\n",
    "        for coalition_in_features in itertools.combinations(remaining_features, subset_size):\n",
    "            # Coalition of features included in the subset\n",
    "            coalition_in_features_set = set(coalition_in_features)\n",
    "            # Coalition of features excluded from the subset\n",
    "            coalition_out_features_set = set(feature_ids) - coalition_in_features_set - {target_feature_id}\n",
    "            coalitions.append((coalition_in_features_set, coalition_out_features_set))\n",
    "    \n",
    "    return coalitions    \n",
    "   "
   ]
  },
  {
   "cell_type": "code",
   "execution_count": 77,
   "id": "e649eb08",
   "metadata": {},
   "outputs": [
    {
     "name": "stdout",
     "output_type": "stream",
     "text": [
      "[({1}, {2, 3, 4, 5}), ({2}, {1, 3, 4, 5}), ({3}, {1, 2, 4, 5}), ({4}, {1, 2, 3, 5}), ({5}, {1, 2, 3, 4}), ({5}, {1, 2, 3, 4}), ({1, 2}, {3, 4, 5}), ({1, 3}, {2, 4, 5}), ({1, 4}, {2, 3, 5}), ({1, 5}, {2, 3, 4}), ({1, 5}, {2, 3, 4}), ({2, 3}, {1, 4, 5}), ({2, 4}, {1, 3, 5}), ({2, 5}, {1, 3, 4}), ({2, 5}, {1, 3, 4}), ({3, 4}, {1, 2, 5}), ({3, 5}, {1, 2, 4}), ({3, 5}, {1, 2, 4}), ({4, 5}, {1, 2, 3}), ({4, 5}, {1, 2, 3}), ({5}, {1, 2, 3, 4}), ({1, 2, 3}, {4, 5}), ({1, 2, 4}, {3, 5}), ({1, 2, 5}, {3, 4}), ({1, 2, 5}, {3, 4}), ({1, 3, 4}, {2, 5}), ({1, 3, 5}, {2, 4}), ({1, 3, 5}, {2, 4}), ({1, 4, 5}, {2, 3}), ({1, 4, 5}, {2, 3}), ({1, 5}, {2, 3, 4}), ({2, 3, 4}, {1, 5}), ({2, 3, 5}, {1, 4}), ({2, 3, 5}, {1, 4}), ({2, 4, 5}, {1, 3}), ({2, 4, 5}, {1, 3}), ({2, 5}, {1, 3, 4}), ({3, 4, 5}, {1, 2}), ({3, 4, 5}, {1, 2}), ({3, 5}, {1, 2, 4}), ({4, 5}, {1, 2, 3}), ({1, 2, 3, 4}, {5}), ({1, 2, 3, 5}, {4}), ({1, 2, 3, 5}, {4}), ({1, 2, 4, 5}, {3}), ({1, 2, 4, 5}, {3}), ({1, 2, 5}, {3, 4}), ({1, 3, 4, 5}, {2}), ({1, 3, 4, 5}, {2}), ({1, 3, 5}, {2, 4}), ({1, 4, 5}, {2, 3}), ({2, 3, 4, 5}, {1}), ({2, 3, 4, 5}, {1}), ({2, 3, 5}, {1, 4}), ({2, 4, 5}, {1, 3}), ({3, 4, 5}, {1, 2}), ({1, 2, 3, 4, 5}, set()), ({1, 2, 3, 4, 5}, set()), ({1, 2, 3, 5}, {4}), ({1, 2, 4, 5}, {3}), ({1, 3, 4, 5}, {2}), ({2, 3, 4, 5}, {1}), ({1, 2, 3, 4, 5}, set())]\n"
     ]
    }
   ],
   "source": [
    "# test the implementation of generate_coalitions\n",
    "\n",
    "feature_ids = [0, 1, 2, 3, 4, 5, 5]\n",
    "target_feature_id = 0\n",
    "\n",
    "coalitions = generate_coalitions(feature_ids, target_feature_id)\n",
    "\n",
    "print(coalitions)"
   ]
  },
  {
   "cell_type": "markdown",
   "id": "cc6fe694-5010-47c6-a3dc-68ffd032eb1b",
   "metadata": {},
   "source": [
    "**Task 2(a)(iii)**: Next, implement a function `delete_features` that deletes the specified features from the given input tensor `x`. In contrast with the setting in the SHAP tutorial, the majority of features considered in this coursework are non-binary, which makes the deletion of features slightly more challenging. The general procedure for performing the deletion can be described as follows:\n",
    "1. For each sample in `x` and each deleted feature, randomly sample the value of the deleted feature from another data point in the background dataset\n",
    "2. If the sampled value is identical to the current value of the deleted feature, continue sampling new values until finding one that differs. This ensures that feature deletion actually changes the values of categorical variables or variables with few possible values.\n",
    "3. Replace the value of the deleted feature in the currently considered sample with the newly sampled value\n",
    "\n",
    "Hint #1: Boolean tensor masks \"selecting\" certain features can be very helpful here.\n",
    "\n",
    "Hint #2: Make sure not to overwrite values in the original `x` when deleting features. Instead, the function should return a new tensor."
   ]
  },
  {
   "cell_type": "code",
   "execution_count": 78,
   "id": "a75928ee-3f2b-4427-8f41-45cfbe239eda",
   "metadata": {},
   "outputs": [],
   "source": [
    "def delete_features(x, background_dataset, feature_ids, deleted_feature_ids):\n",
    "    \"\"\"\n",
    "    Deletes the specified features from inputs x using the background dataset.\n",
    "\n",
    "    Parameters:\n",
    "        x (Tensor): A tensor of inputs with the shape (batch_size, num_features).\n",
    "        background_dataset (Tensor): A tensor of background data samples with the same shape as x.\n",
    "        feature_ids (list): A list with feature IDs, same as in generate_coalitions.\n",
    "        deleted_feature_ids (set): A set with feature IDs to be deleted from x.\n",
    "\n",
    "    Returns:\n",
    "        x_deleted (tensor): A new tensor of inputs with the specified features deleted.\n",
    "    \"\"\"    \n",
    "    # Make the sampling deterministic\n",
    "    torch.manual_seed(42)\n",
    "    np.random.seed(42)\n",
    "\n",
    "    # TODO: Your code here\n",
    "\n",
    "    # take a copy so the input x is not overwritten\n",
    "    x_deleted = x.clone()\n",
    "\n",
    "\n",
    "    # create a boolean mask for the deleted features\n",
    "    deleted_feature_indices = [i for i, f_id in enumerate(feature_ids) if f_id in deleted_feature_ids]\n",
    "    mask = torch.zeros(x.size(1), dtype=torch.bool)  \n",
    "    \n",
    "    mask[deleted_feature_indices] = True  # set True for deleted features\n",
    "    \n",
    "    # iterate over each sample in x\n",
    "    for i in range(x.size(0)):\n",
    "\n",
    "        while True:\n",
    "\n",
    "            # randomly select from the background dataset\n",
    "            sample_index = np.random.randint(0, background_dataset.size(0))\n",
    "            \n",
    "            sampled_values = background_dataset[sample_index, mask]\n",
    "            \n",
    "            # ensure the sampled values are different from the current values\n",
    "            if not torch.any(sampled_values == x_deleted[i, mask]):\n",
    "                break\n",
    "\n",
    "        # replace the values of the deleted features with the sampled values\n",
    "        x_deleted[i, ~mask] = x[i, ~mask]\n",
    "        x_deleted[i, mask] = sampled_values\n",
    "\n",
    "    return x_deleted"
   ]
  },
  {
   "cell_type": "code",
   "execution_count": null,
   "id": "4f198a85",
   "metadata": {},
   "outputs": [
    {
     "data": {
      "text/plain": [
       "tensor([[ True, False,  True,  True,  True, False, False],\n",
       "        [ True, False,  True,  True,  True, False, False],\n",
       "        [ True, False,  True,  True,  True, False, False],\n",
       "        [ True, False,  True,  True,  True, False, False],\n",
       "        [ True, False,  True,  True,  True, False, False]])"
      ]
     },
     "execution_count": 79,
     "metadata": {},
     "output_type": "execute_result"
    }
   ],
   "source": [
    "# test the implementation of delete_features\n",
    "\n",
    "random_indices = np.random.choice(len(test_dataset), 5, replace = False)\n",
    "selected_rows = test_dataset.samples[random_indices]\n",
    "\n",
    "selected_rows\n",
    "x_deleted = delete_features(selected_rows,  test_dataset.samples, [0,1,2,3,4,5,5], [1,5])\n",
    "x_deleted == selected_rows # This returns `False` if features were successfully deleted\n"
   ]
  },
  {
   "cell_type": "markdown",
   "id": "679f0dc8-1542-4989-b148-41d5e5889e5b",
   "metadata": {},
   "source": [
    "**Task 2(a)(iv)**: Finally, put everything together in the `shap_attribute` function, which will compute the SHAP attributions for the given input and model. Note that the function also takes in a `target_idx` specifying for which output neuron the explanations should be computed. This is not strictly necessary for the Titanic model, which only has a single Sigmoid output, but will be needed once you start working with a more complex model."
   ]
  },
  {
   "cell_type": "code",
   "execution_count": null,
   "id": "a6861b08",
   "metadata": {},
   "outputs": [],
   "source": [
    "def shap_attribute(model, x, background_dataset, feature_ids, target_idx=0):\n",
    "    \"\"\"\n",
    "    Computes the SHAP attributions for the given input and model.\n",
    "\n",
    "    Parameters:\n",
    "        model (Object): A PyTorch model for which the attributions should be computed.\n",
    "        x (Tensor): Inputs for which the explanations should be computed, in shape (batch_size, num_features).\n",
    "        background_dataset (Tensor): A tensor of background data samples with the same shape as x.\n",
    "        feature_ids (list): A list with feature IDs, same as in generate_coalitions.\n",
    "        target_idx (int): The ID of the target neuron for which to compute an explanation.\n",
    "\n",
    "    Returns:\n",
    "        attributions (Tensor): A tensor of SHAP attributions, with the same shape as the input.\n",
    "    \"\"\"\n",
    "    # Initialize the attributions tensor\n",
    "    batch_size, num_features = x.shape\n",
    "    attributions = torch.zeros_like(x)\n",
    "\n",
    "    # Iterate over each feature to compute its SHAP value\n",
    "    for i, target_feature_id in enumerate(feature_ids):  # Use set to handle duplicates\n",
    "        # Generate all coalitions for the target feature\n",
    "        coalitions = generate_coalitions(feature_ids, target_feature_id)\n",
    "\n",
    "        shap_value=0\n",
    "        # Iterate over each coalition\n",
    "        for coalition_in, coalition_out in coalitions:\n",
    "            # Compute the SHAP coefficient for this coalition\n",
    "            num_in_coalition = len(coalition_in)\n",
    "            total_features = len(feature_ids)  # Use set to handle duplicates\n",
    "            coefficient = compute_coefficient(num_in_coalition, total_features)\n",
    "\n",
    "            # Delete features in the coalition_out set\n",
    "            x_deleted = delete_features(x, background_dataset, feature_ids, coalition_out)\n",
    "\n",
    "            # Compute the model's output with the coalition_in features\n",
    "            with torch.no_grad():\n",
    "                output_in = model(x_deleted)[:, target_idx]\n",
    "\n",
    "            # Delete features in the coalition_in set (including the target feature)\n",
    "            x_deleted_target = delete_features(x, background_dataset, feature_ids, coalition_in | {target_feature_id})\n",
    "\n",
    "            # Compute the model's output without the coalition_in features\n",
    "            with torch.no_grad():\n",
    "                output_out = model(x_deleted_target)[:, target_idx]\n",
    "\n",
    "            # Compute the marginal contribution of the target feature\n",
    "            marginal_contribution = output_in - output_out\n",
    "            shap_value+=coefficient*marginal_contribution\n",
    "            \n",
    "        attributions[:, i] = shap_value\n",
    "    return attributions"
   ]
  },
  {
   "cell_type": "markdown",
   "id": "3017834b-bf1c-48e4-ab1c-ff0d26ccab5c",
   "metadata": {},
   "source": [
    "### Additional Explanation Methods"
   ]
  },
  {
   "cell_type": "markdown",
   "id": "33325644-8c95-4e9f-aa94-9cf9206d2268",
   "metadata": {},
   "source": [
    "Apart from SHAP, which you just implemented, you will also be experimenting with two more feature attribution methods implemented in the [Captum](https://captum.ai/) library — [Shapley Value Sampling](https://captum.ai/api/shapley_value_sampling.html) and [DeepLIFT](https://captum.ai/api/deep_lift.html). Shapley Value Sampling is a more computationally tractable approximation of SHAP and computes the scores by randomly sampling a fixed number of coalitions instead of considering all of them. Meanwhile, DeepLIFT is a fast gradient-based attribution method specifically designed for neural models. If you are interested, you can learn more about DeepLIFT in [its original paper](https://arxiv.org/abs/1704.02685).\n",
    "\n",
    "To get you started, we provide an example of how to use the Captum library to generate Shapley Value Sampling attributions for the first sample from the Titanic test set (note that the library also allows you to compute attributions for a batch of inputs):"
   ]
  },
  {
   "cell_type": "code",
   "execution_count": 82,
   "id": "974eca85-1658-4222-95fc-bf3d180baeb5",
   "metadata": {},
   "outputs": [
    {
     "data": {
      "text/plain": [
       "tensor([[ 0.0000,  0.1988,  0.0000,  0.0000,  0.1638, -0.5639, -0.5639]])"
      ]
     },
     "execution_count": 82,
     "metadata": {},
     "output_type": "execute_result"
    }
   ],
   "source": [
    "from captum.attr import ShapleyValueSampling\n",
    "\n",
    "# Note that this is similar to feature_ids from the implementation above,\n",
    "# but the shape and the data type are different\n",
    "feature_mask = torch.tensor([[0, 1, 2, 3, 4, 5, 5]]).to(DEVICE)\n",
    "svs = ShapleyValueSampling(model)\n",
    "attributions = svs.attribute(test_dataset.samples[[0]].to(DEVICE), target=0, feature_mask=feature_mask)\n",
    "attributions"
   ]
  },
  {
   "cell_type": "markdown",
   "id": "b9e108b2-15d8-4c0b-bf6f-a64a4fe3b9e2",
   "metadata": {},
   "source": [
    "Notice that, in contrast with the SHAP implementation above, we did not need to pass in the background dataset. This is because Captum takes a slightly different approach to deleting features and instead replaces them with a pre-specified baseline value (see the `baselines` parameter description in the [documentation](https://captum.ai/api/shapley_value_sampling.html)). For the purposes of this coursework, it is fine to use the default (zero) baseline for both Shapley Value Sampling and DeepLIFT."
   ]
  },
  {
   "cell_type": "markdown",
   "id": "d5c24e08-7871-44fe-afdd-d15c3c8d1fee",
   "metadata": {},
   "source": [
    "### Feature Attribution Experiments"
   ]
  },
  {
   "cell_type": "markdown",
   "id": "ce5d4669-00e6-43bb-826f-c0f12aa45f96",
   "metadata": {},
   "source": [
    "In this section, you will conduct several experiments associated with feature attribution methods.\n",
    "\n",
    "**Task 2(b)**: Using your implementation of SHAP and Captum implementations of Shapley Value Sampling and DeepLIFT, compute feature attributions for 10 randomly selected instances from the Titanic test set. Then answer the following questions: <br />\n",
    "**(i)** Which features generally seem to be the most important and least important for the explained model according to each of the explanations? <br />\n",
    "**(ii)** Are there any substantial differences between the different attribution methods? What might be the possible reasons for the different methods returning different attribution scores? <br />\n",
    "**(iii)** Do the attribution scores match your expectations for the most/least important features from task 1(a)(ii)? What might be the reasons for a user's expected explanations differing from the computed attribution explanations? <br />\n",
    "**(iv)** Considering the insights gained from the exploratory data analysis and the feature attribution explanations, as well as the definitions of the explanations themselves, what are the potential advantages/disadvantages of each of these methods when trying to understand the behaviour of a model on a particular dataset? <br />"
   ]
  },
  {
   "cell_type": "code",
   "execution_count": 83,
   "id": "c2680c1c-9276-45c1-94ae-c10a660b74f5",
   "metadata": {},
   "outputs": [
    {
     "name": "stdout",
     "output_type": "stream",
     "text": [
      "[tensor([-1.0000,  0.2581,  0.0000,  0.5000,  7.0881,  0.0000,  1.0000]), tensor([ 0.0000, -0.4516,  1.0000,  0.0000, -0.0464,  1.0000,  0.0000]), tensor([ 0.0000,  0.0000,  0.0000,  0.0000, -0.0940,  0.0000,  1.0000]), tensor([0.0000, 0.0000, 0.0000, 0.0000, 0.5979, 0.0000, 1.0000]), tensor([-1.0000,  0.3548,  1.0000,  0.5000,  0.9276,  1.0000,  0.0000]), tensor([-0.5000, -0.3226,  0.0000,  0.0000, -0.0427,  0.0000,  1.0000]), tensor([-1.0000,  0.7742,  0.0000,  0.0000,  0.2278,  0.0000,  1.0000]), tensor([ 0.0000, -0.3871,  0.0000,  0.0000, -0.0752,  0.0000,  1.0000]), tensor([-0.5000, -0.8065,  1.0000,  1.0000,  0.3856,  1.0000,  0.0000]), tensor([ 0.0000,  0.0000,  0.0000,  0.0000, -0.1035,  0.0000,  1.0000])]\n",
      "input_tensor tensor([[-1.0000,  0.2581,  0.0000,  0.5000,  7.0881,  0.0000,  1.0000],\n",
      "        [ 0.0000, -0.4516,  1.0000,  0.0000, -0.0464,  1.0000,  0.0000],\n",
      "        [ 0.0000,  0.0000,  0.0000,  0.0000, -0.0940,  0.0000,  1.0000],\n",
      "        [ 0.0000,  0.0000,  0.0000,  0.0000,  0.5979,  0.0000,  1.0000],\n",
      "        [-1.0000,  0.3548,  1.0000,  0.5000,  0.9276,  1.0000,  0.0000],\n",
      "        [-0.5000, -0.3226,  0.0000,  0.0000, -0.0427,  0.0000,  1.0000],\n",
      "        [-1.0000,  0.7742,  0.0000,  0.0000,  0.2278,  0.0000,  1.0000],\n",
      "        [ 0.0000, -0.3871,  0.0000,  0.0000, -0.0752,  0.0000,  1.0000],\n",
      "        [-0.5000, -0.8065,  1.0000,  1.0000,  0.3856,  1.0000,  0.0000],\n",
      "        [ 0.0000,  0.0000,  0.0000,  0.0000, -0.1035,  0.0000,  1.0000]])\n"
     ]
    }
   ],
   "source": [
    "# TODO: Your code and experiments here\n",
    "import torch\n",
    "from captum.attr import ShapleyValueSampling, DeepLift\n",
    "import numpy as np\n",
    "import random\n",
    "random.seed(42)\n",
    "\n",
    "# Randomly select 10 instances from the Titanic test set\n",
    "random_indices = random.sample(range(len(test_dataset.samples)), 10)\n",
    "selected_samples = [test_dataset.samples[idx] for idx in random_indices]\n",
    "\n",
    "print(selected_samples)\n",
    "# Convert the selected samples to tensor and move them to the same device as the model\n",
    "input_tensor = torch.stack(selected_samples)\n",
    "print(\"input_tensor\", input_tensor)\n",
    "\n",
    "# Analyze results\n",
    "def analyze_attributions(attributions, feature_names):\n",
    "    avg_attributions = torch.mean(torch.abs(attributions), dim=0) # torch.abs(attributions)\n",
    "    ranked_features = sorted(zip(feature_names, avg_attributions), key=lambda x: x[1], reverse=True)\n",
    "    print(\"Ranked Features:\")\n",
    "    for feature, score in ranked_features:\n",
    "        print(f\"{feature}: {score:.4f}\")\n",
    "    return ranked_features"
   ]
  },
  {
   "cell_type": "code",
   "execution_count": null,
   "id": "ac93b151",
   "metadata": {},
   "outputs": [
    {
     "name": "stdout",
     "output_type": "stream",
     "text": [
      "torch.Size([1037, 7])\n",
      "tensor([[ 0.0889, -0.0807, -0.1040, -0.0344,  0.2962, -0.0973, -0.0973],\n",
      "        [ 0.0720,  0.3856,  0.1973,  0.1664,  0.1779,  0.2275,  0.2275],\n",
      "        [-0.2526, -0.1897, -0.0750, -0.2945, -0.3079, -0.1499, -0.1499],\n",
      "        [-0.2670, -0.0073, -0.1186, -0.0041, -0.1063, -0.1621, -0.1621],\n",
      "        [ 0.4144,  0.2094,  0.1698,  0.1449,  0.2294,  0.2550,  0.2550],\n",
      "        [-0.1043, -0.1918,  0.0211, -0.1389, -0.1788, -0.1536, -0.1536],\n",
      "        [ 0.0990, -0.1773,  0.0432, -0.1496, -0.0296, -0.1461, -0.1461],\n",
      "        [-0.3305, -0.0990, -0.1506, -0.1860, -0.2190, -0.2161, -0.2161],\n",
      "        [ 0.2240,  0.2132,  0.1295,  0.1019,  0.1197,  0.1264,  0.1264],\n",
      "        [-0.2409, -0.1485, -0.1490, -0.1823, -0.2135, -0.1798, -0.1798]])\n",
      "tensor([-0.0297, -0.0086, -0.0036, -0.0577, -0.0232, -0.0496, -0.0496])\n",
      "Ranked Features:\n",
      "pclass: 0.2094\n",
      "fare: 0.1878\n",
      "sex_m: 0.1714\n",
      "sex_f: 0.1714\n",
      "age: 0.1702\n",
      "parch: 0.1403\n",
      "sibsp: 0.1158\n"
     ]
    },
    {
     "data": {
      "text/plain": [
       "[('pclass', tensor(0.2094)),\n",
       " ('fare', tensor(0.1878)),\n",
       " ('sex_m', tensor(0.1714)),\n",
       " ('sex_f', tensor(0.1714)),\n",
       " ('age', tensor(0.1702)),\n",
       " ('parch', tensor(0.1403)),\n",
       " ('sibsp', tensor(0.1158))]"
      ]
     },
     "execution_count": 84,
     "metadata": {},
     "output_type": "execute_result"
    }
   ],
   "source": [
    "# ------------------------- SHAP Implementation -------------------------\n",
    "\n",
    "# Create the background dataset for SHAP, which should have the same shape as the input tensor.\n",
    "# This dataset is typically a subset of the training data used to approximate the expected model output.\n",
    "\n",
    "# Construct the background dataset by excluding the randomly selected test samples from the training dataset.\n",
    "background_samples = [train_dataset.samples[idx] for idx in range(len(train_dataset.samples)) if idx not in random_indices]\n",
    "\n",
    "# Convert the list of background samples into a PyTorch tensor\n",
    "background_dataset = torch.stack(background_samples)\n",
    "\n",
    "# Print the size of the background dataset for verification\n",
    "print(background_dataset.size())\n",
    "\n",
    "# Define the feature indices to be used for SHAP attribution analysis.\n",
    "feature_ids = [0, 1, 2, 3, 4, 5, 5]\n",
    "\n",
    "# Compute SHAP attributions for the given model, input tensor, and background dataset.\n",
    "attributions_shap = shap_attribute(model, input_tensor, background_dataset, feature_ids)\n",
    "\n",
    "# Print the raw SHAP attributions to inspect the results\n",
    "print(attributions_shap)\n",
    "\n",
    "# Compute and print the mean SHAP attribution across all instances to understand feature importance\n",
    "print(attributions_shap.mean(dim=0))\n",
    "\n",
    "# Define human-readable feature names corresponding to the feature indices\n",
    "feature_names = [\"pclass\", \"age\", \"sibsp\", \"parch\", \"fare\", \"sex_m\", \"sex_f\"]\n",
    "\n",
    "# Analyze and visualize the SHAP attributions for better interpretability\n",
    "analyze_attributions(attributions_shap, feature_names)\n"
   ]
  },
  {
   "cell_type": "code",
   "execution_count": null,
   "id": "64d13d85",
   "metadata": {},
   "outputs": [
    {
     "name": "stdout",
     "output_type": "stream",
     "text": [
      "tensor([[ 0.0251,  0.1321,  0.0000,  0.1669,  0.7283, -0.2619, -0.2619],\n",
      "        [ 0.0000,  0.3414,  0.4085,  0.0000,  0.2466, -0.2102, -0.2102],\n",
      "        [ 0.0000,  0.0000,  0.0000,  0.0000,  0.2567, -0.3737, -0.3737],\n",
      "        [ 0.0000,  0.0000,  0.0000,  0.0000,  0.5078,  0.0834,  0.0834],\n",
      "        [ 0.5806,  0.0310,  0.1433, -0.0906,  0.1477, -0.0215, -0.0215],\n",
      "        [ 0.3112, -0.0902,  0.0000,  0.0000,  0.0337, -0.4619, -0.4619],\n",
      "        [ 0.4926,  0.3191,  0.0000,  0.0000,  0.3193, -0.3854, -0.3854],\n",
      "        [ 0.0000, -0.0675,  0.0000,  0.0000,  0.2931, -0.2580, -0.2580],\n",
      "        [ 0.4379,  0.2193,  0.1215,  0.0077,  0.0012,  0.0030,  0.0030],\n",
      "        [ 0.0000,  0.0000,  0.0000,  0.0000,  0.2583, -0.4033, -0.4033]])\n",
      "mean tensor([ 0.1847,  0.0885,  0.0673,  0.0084,  0.2793, -0.2289, -0.2289])\n",
      "Ranked Features:\n",
      "fare: 0.2793\n",
      "sex_m: 0.2462\n",
      "sex_f: 0.2462\n",
      "pclass: 0.1847\n",
      "age: 0.1201\n",
      "sibsp: 0.0673\n",
      "parch: 0.0265\n"
     ]
    },
    {
     "data": {
      "text/plain": [
       "[('fare', tensor(0.2793)),\n",
       " ('sex_m', tensor(0.2462)),\n",
       " ('sex_f', tensor(0.2462)),\n",
       " ('pclass', tensor(0.1847)),\n",
       " ('age', tensor(0.1201)),\n",
       " ('sibsp', tensor(0.0673)),\n",
       " ('parch', tensor(0.0265))]"
      ]
     },
     "execution_count": 85,
     "metadata": {},
     "output_type": "execute_result"
    }
   ],
   "source": [
    "# TODO: Your code and experiments here\n",
    "\n",
    "# ------------------ Shapley Value Sampling using Captum -------------------\n",
    "\n",
    "svs = ShapleyValueSampling(model)\n",
    "\n",
    "# Create a feature mask (same as feature_ids)\n",
    "feature_mask = torch.tensor([[0, 1, 2, 3, 4, 5, 5]]) \n",
    "\n",
    "# Define the baseline data (reference input) as a tensor of zeros with the same shape as the input tensor.\n",
    "baseline_data = torch.zeros_like(input_tensor)\n",
    "\n",
    "\n",
    "# Compute Shapley Value Sampling attributions for the input tensor.\n",
    "svs_attribution = svs.attribute(input_tensor, target=0, feature_mask=feature_mask, baselines=baseline_data)\n",
    "\n",
    "# Print the computed attributions to inspect individual feature contributions\n",
    "print(svs_attribution)\n",
    "\n",
    "# Compute and print the mean attributions across all samples to understand overall feature importance\n",
    "print(\"Mean attribution:\", svs_attribution.mean(dim=0))\n",
    "\n",
    "# Analyze and visualize the attributions using the feature names\n",
    "analyze_attributions(svs_attribution, feature_names)"
   ]
  },
  {
   "cell_type": "code",
   "execution_count": null,
   "id": "71be00fa",
   "metadata": {},
   "outputs": [
    {
     "name": "stdout",
     "output_type": "stream",
     "text": [
      "tensor([ 0.2030,  0.0697,  0.0747,  0.0224,  0.3090, -0.0155, -0.2640],\n",
      "       grad_fn=<MeanBackward1>)\n",
      "Ranked Features:\n",
      "fare: 0.3790\n",
      "sex_f: 0.2640\n",
      "pclass: 0.2388\n",
      "age: 0.1196\n",
      "sibsp: 0.0747\n",
      "sex_m: 0.0548\n",
      "parch: 0.0404\n"
     ]
    },
    {
     "name": "stderr",
     "output_type": "stream",
     "text": [
      "c:\\Users\\SUNITA\\anaconda3\\lib\\site-packages\\captum\\_utils\\gradient.py:57: UserWarning: Input Tensor 0 did not already require gradients, required_grads has been set automatically.\n",
      "  warnings.warn(\n",
      "c:\\Users\\SUNITA\\anaconda3\\lib\\site-packages\\captum\\attr\\_core\\deep_lift.py:304: UserWarning: Setting forward, backward hooks and attributes on non-linear\n",
      "               activations. The hooks and attributes will be removed\n",
      "            after the attribution is finished\n",
      "  warnings.warn(\n"
     ]
    },
    {
     "data": {
      "text/plain": [
       "[('fare', tensor(0.3790, grad_fn=<UnbindBackward0>)),\n",
       " ('sex_f', tensor(0.2640, grad_fn=<UnbindBackward0>)),\n",
       " ('pclass', tensor(0.2388, grad_fn=<UnbindBackward0>)),\n",
       " ('age', tensor(0.1196, grad_fn=<UnbindBackward0>)),\n",
       " ('sibsp', tensor(0.0747, grad_fn=<UnbindBackward0>)),\n",
       " ('sex_m', tensor(0.0548, grad_fn=<UnbindBackward0>)),\n",
       " ('parch', tensor(0.0404, grad_fn=<UnbindBackward0>))]"
      ]
     },
     "execution_count": 86,
     "metadata": {},
     "output_type": "execute_result"
    }
   ],
   "source": [
    "# ------------------ DeepLIFT Attribution using Captum -------------------\n",
    "\n",
    "# Initialize the DeepLIFT attribution method from Captum\n",
    "# DeepLIFT helps identify how much each input feature contributes to the model’s prediction\n",
    "deep_lift = DeepLift(model)\n",
    "\n",
    "# Define the baseline data (reference input) as a tensor of zeros with the same shape as the input tensor.\n",
    "baseline_data = torch.zeros_like(input_tensor)\n",
    "\n",
    "# Compute DeepLIFT attributions for the input tensor.\n",
    "deeplift_attribution = deep_lift.attribute(input_tensor, target=0, baselines=baseline_data)\n",
    "\n",
    "# Print the mean attributions across all samples to understand overall feature importance\n",
    "print(deeplift_attribution.mean(dim=0))\n",
    "\n",
    "# Analyze and visualize the DeepLIFT attributions using the feature names\n",
    "analyze_attributions(deeplift_attribution, feature_names)\n"
   ]
  },
  {
   "cell_type": "markdown",
   "id": "548f1001-218e-46a8-b4cf-303f2939c234",
   "metadata": {},
   "source": [
    "**Task 2(c)**: Perform a quantitative evaluation of the different attribution methods by computing their mean [infidelity](https://captum.ai/api/metrics.html) on the full Titanic dataset. On a high level, infidelity aims to estimate how closely the generated explanations correspond with the behaviour of the explained model by slightly perturbing the inputs and measuring how much the observed change in the model output differs from the change predicted by the corresponding feature attributions (when considering a linear model with the same weights as the feature attribution scores). If you are interested, you can find more details regarding this metric in [the original paper](https://arxiv.org/abs/1901.09392). A downside of the infidelity metric is that one needs to define a suitable perturbation function for changing the model inputs, which can significantly affect the results. In this coursework, we provide you with a perturbation function adding Gaussian noise to continuous features and performing resampling for categorical features. In your evaluation, you should experiment with two or three different standard deviations and categorical resampling probabilities. Once you are done, add a table summarising the results to your report and comment on the findings. Note that lower infidelity scores are better.\n",
    "\n",
    "Note: You should use `normalize=True` and `n_perturb_samples=10` as parameters to the Captum's infidelity function and set the same Torch and NumPy seeds before computing the infidelity for each method (so that all methods are evaluated using the same sample perturbations)."
   ]
  },
  {
   "cell_type": "code",
   "execution_count": 87,
   "id": "9ffeb0f4-180f-4c7c-8a3f-258d3725ddfb",
   "metadata": {},
   "outputs": [],
   "source": [
    "from captum.metrics import infidelity, infidelity_perturb_func_decorator\n",
    "\n",
    "def perturb_func_constructor(noise_scale, cat_resample_proba, background_dataset, feature_ids, n_perturb_samples=10):\n",
    "    \"\"\"\n",
    "    You can call this function to construct a perturbation function with the desired parameters,\n",
    "    which can then be provided as the perturb_func parameter to the infidelity metric implementation\n",
    "    from Captum.\n",
    "\n",
    "     Parameters:\n",
    "        noise_scale (float): A standard deviation of the Gaussian noise added to the continuous features.\n",
    "        cat_resample_proba (float): Probability of resampling a categorical feature.\n",
    "        background_dataset (Tensor): A tensor of background data samples with the shape (num_samples, num_features).\n",
    "        feature_ids (list): A list with feature IDs, same as in generate_coalitions.\n",
    "        n_perturb_samples (int): The number of perturbed samples for each input. Should match the value\n",
    "            of the corresponding parameter to the Captum's infidelity function.\n",
    "\n",
    "    Returns:\n",
    "        perturb_func (function): A perturbation function compatible with Captum\n",
    "    \"\"\"\n",
    "    @infidelity_perturb_func_decorator(True)\n",
    "    def perturb_func(inputs):        \n",
    "        # Construct masks for noise and resampling categorical variables\n",
    "        noise_mask = torch.ones(1, inputs.size(1)).to(DEVICE)\n",
    "        # We assume that categorical features are one-hot-encoded\n",
    "        i = 0\n",
    "        current_span_start = 0\n",
    "        categorical_spans = []\n",
    "        while i < len(feature_ids) - 1:    \n",
    "            if feature_ids[i] != feature_ids[i + 1] and current_span_start != i:\n",
    "                categorical_spans.append((current_span_start, i))\n",
    "                current_span_start = i + 1\n",
    "            elif feature_ids[i] != feature_ids[i + 1]:\n",
    "                current_span_start = i + 1\n",
    "            elif feature_ids[i] == feature_ids[i + 1] and i == len(feature_ids) - 2:\n",
    "                categorical_spans.append((current_span_start, i + 1))\n",
    "            i += 1\n",
    "                \n",
    "        cat_resample_masks = []\n",
    "        for i, (s, e) in enumerate(categorical_spans):\n",
    "            cat_resample_mask = torch.zeros(inputs.shape).to(DEVICE)\n",
    "            probabilities = torch.full((inputs.size(0), 1), cat_resample_proba)\n",
    "            resample_tensor = torch.bernoulli(probabilities)\n",
    "            noise_mask[:, s:e] = 0.\n",
    "            cat_resample_mask[:, s:e] = resample_tensor\n",
    "            cat_resample_masks.append(cat_resample_mask)\n",
    "\n",
    "        # Add noise to continuous features only\n",
    "        noise = torch.tensor(np.random.normal(0, noise_scale, inputs.shape)).float().to(DEVICE) * noise_mask\n",
    "        perturbed_inputs = inputs - noise\n",
    "\n",
    "        # Randomly resample categorical variables\n",
    "        if categorical_spans:\n",
    "            expanded_background_dataset = background_dataset.repeat((n_perturb_samples, 1))\n",
    "            for cat_resample_mask in cat_resample_masks:\n",
    "                random_perm = torch.randperm(expanded_background_dataset.size(0))\n",
    "                random_samples = expanded_background_dataset[random_perm[:inputs.size(0)]]\n",
    "                perturbed_inputs = perturbed_inputs * (1 - cat_resample_mask) + random_samples * cat_resample_mask\n",
    "\n",
    "        return perturbed_inputs\n",
    "\n",
    "    return perturb_func"
   ]
  },
  {
   "cell_type": "code",
   "execution_count": null,
   "id": "27347c5b",
   "metadata": {},
   "outputs": [
    {
     "name": "stdout",
     "output_type": "stream",
     "text": [
      "1047\n",
      "262\n",
      "torch.Size([1309, 7])\n",
      "tensor([[ 0.0000, -0.3548,  0.0000,  ..., -0.0940,  0.0000,  1.0000],\n",
      "        [-0.5000,  0.2581,  0.0000,  ..., -0.0570,  0.0000,  1.0000],\n",
      "        [-1.0000, -0.3226,  0.0000,  ...,  0.9276,  1.0000,  0.0000],\n",
      "        ...,\n",
      "        [ 0.0000, -0.2258,  0.0000,  ..., -0.0975,  1.0000,  0.0000],\n",
      "        [-1.0000,  0.7097,  1.0000,  ...,  2.8049,  0.0000,  1.0000],\n",
      "        [-1.0000, -0.1290,  0.0000,  ...,  0.4984,  1.0000,  0.0000]])\n"
     ]
    }
   ],
   "source": [
    "# Print the number of samples in the training dataset\n",
    "print(\"Number of training samples:\", len(train_dataset.samples))\n",
    "\n",
    "# Print the number of samples in the test dataset\n",
    "print(\"Number of test samples:\", len(test_dataset.samples))\n",
    "\n",
    "# Concatenate the training and test datasets to create a single unified dataset\n",
    "whole_dataset = torch.cat([train_dataset.samples, test_dataset.samples], dim=0)\n",
    "\n",
    "# Verify the shape of the concatenated dataset\n",
    "print(\"Shape of the combined dataset:\", whole_dataset.shape)\n",
    "\n",
    "# Print the full dataset (use cautiously if the dataset is large)\n",
    "print(\"Combined dataset:\\n\", whole_dataset)\n",
    "\n",
    "# Define the feature indices to be used for analysis or attributions\n",
    "feature_ids = [0, 1, 2, 3, 4, 5, 5]\n"
   ]
  },
  {
   "cell_type": "code",
   "execution_count": null,
   "id": "34113db0",
   "metadata": {},
   "outputs": [],
   "source": [
    "# The shap_attribute function to compute SHAP values for feature importance analysis\n",
    "attributions_shap = shap_attribute(model, whole_dataset, whole_dataset, feature_ids)"
   ]
  },
  {
   "cell_type": "code",
   "execution_count": null,
   "id": "24d65e34",
   "metadata": {},
   "outputs": [],
   "source": [
    "# Create baseline data for SHAP or DeepLIFT attribution, initialized as zeros \n",
    "baseline_data = torch.zeros_like(whole_dataset)\n",
    "\n",
    "# Calculate SHAP values using the SVS method (SHAP Values with SHAP-Vanishing Strategy)\n",
    "svs_attribution = svs.attribute(whole_dataset, target=0, feature_mask=feature_mask, baselines=baseline_data)\n",
    "\n",
    "# Calculate SHAP values using the DeepLIFT method\n",
    "deeplift_attribution = deep_lift.attribute(whole_dataset, target=0, baselines=baseline_data)\n"
   ]
  },
  {
   "cell_type": "code",
   "execution_count": 91,
   "id": "a36cb06b-f3ae-4888-905f-54d8cb5ae7bb",
   "metadata": {},
   "outputs": [
    {
     "name": "stdout",
     "output_type": "stream",
     "text": [
      "Infidelity Results:\n",
      "Noise Scale: 0.1, Categorical Resampling Probability: 0.1, SHAP Infidelity: 0.0898, Shapley Value Sampling Infidelity: 0.0897, DeepLIFT Infidelity: 0.0874\n",
      "Noise Scale: 0.1, Categorical Resampling Probability: 0.5, SHAP Infidelity: 0.0935, Shapley Value Sampling Infidelity: 0.0907, DeepLIFT Infidelity: 0.0930\n",
      "Noise Scale: 0.1, Categorical Resampling Probability: 0.9, SHAP Infidelity: 0.0958, Shapley Value Sampling Infidelity: 0.0902, DeepLIFT Infidelity: 0.0990\n",
      "Noise Scale: 0.5, Categorical Resampling Probability: 0.1, SHAP Infidelity: 0.2124, Shapley Value Sampling Infidelity: 0.1993, DeepLIFT Infidelity: 0.2026\n",
      "Noise Scale: 0.5, Categorical Resampling Probability: 0.5, SHAP Infidelity: 0.2178, Shapley Value Sampling Infidelity: 0.2080, DeepLIFT Infidelity: 0.2101\n",
      "Noise Scale: 0.5, Categorical Resampling Probability: 0.9, SHAP Infidelity: 0.2246, Shapley Value Sampling Infidelity: 0.2215, DeepLIFT Infidelity: 0.2183\n",
      "Noise Scale: 0.9, Categorical Resampling Probability: 0.1, SHAP Infidelity: 0.2598, Shapley Value Sampling Infidelity: 0.2599, DeepLIFT Infidelity: 0.2609\n",
      "Noise Scale: 0.9, Categorical Resampling Probability: 0.5, SHAP Infidelity: 0.2684, Shapley Value Sampling Infidelity: 0.2684, DeepLIFT Infidelity: 0.2672\n",
      "Noise Scale: 0.9, Categorical Resampling Probability: 0.9, SHAP Infidelity: 0.2852, Shapley Value Sampling Infidelity: 0.2788, DeepLIFT Infidelity: 0.2730\n"
     ]
    }
   ],
   "source": [
    "# TODO: Your code and experiments here\n",
    "from captum.metrics import infidelity\n",
    "import torch\n",
    "import numpy as np\n",
    "\n",
    "# Set random seeds for reproducibility\n",
    "torch.manual_seed(42)\n",
    "np.random.seed(42)\n",
    "\n",
    "# Define hyperparameters\n",
    "noise_scales = [0.1, 0.5, 0.9]\n",
    "cat_resample_probas = [0.1, 0.5, 0.9]\n",
    "\n",
    "# Initialize results table\n",
    "results = []\n",
    "\n",
    "x = whole_dataset # input_tensor\n",
    "\n",
    "# Iterate over hyperparameters\n",
    "for noise_scale in noise_scales:\n",
    "    for cat_resample_proba in cat_resample_probas:\n",
    "        # Construct perturbation function\n",
    "        perturb_func = perturb_func_constructor(\n",
    "            noise_scale=noise_scale,\n",
    "            cat_resample_proba=cat_resample_proba,\n",
    "            background_dataset=whole_dataset,\n",
    "            feature_ids=feature_ids,\n",
    "            n_perturb_samples=10\n",
    "        )\n",
    "\n",
    "        # Compute infidelity for each attribution method\n",
    "        infidelity_shap = infidelity(\n",
    "            model,\n",
    "            perturb_func,\n",
    "            x,\n",
    "            attributions=attributions_shap,\n",
    "            normalize=True,\n",
    "            n_perturb_samples=10\n",
    "        ).mean().item()\n",
    "\n",
    "        infidelity_shapley_sampling = infidelity(\n",
    "            model,\n",
    "            perturb_func,\n",
    "            x,\n",
    "            attributions=svs_attribution,\n",
    "            normalize=True,\n",
    "            n_perturb_samples=10\n",
    "        ).mean().item()\n",
    "\n",
    "        infidelity_deeplift = infidelity(\n",
    "            model,\n",
    "            perturb_func,\n",
    "            x,\n",
    "            attributions=deeplift_attribution,\n",
    "            normalize=True,\n",
    "            n_perturb_samples=10\n",
    "        ).mean().item()\n",
    "\n",
    "        # Store results\n",
    "        results.append({\n",
    "            \"Noise Scale\": noise_scale,\n",
    "            \"Categorical Resampling Probability\": cat_resample_proba,\n",
    "            \"SHAP Infidelity\": infidelity_shap,\n",
    "            \"Shapley Value Sampling Infidelity\": infidelity_shapley_sampling,\n",
    "            \"DeepLIFT Infidelity\": infidelity_deeplift\n",
    "        })\n",
    "\n",
    "# Print results table\n",
    "print(\"Infidelity Results:\")\n",
    "for result in results:\n",
    "    print(f\"Noise Scale: {result['Noise Scale']}, \"\n",
    "          f\"Categorical Resampling Probability: {result['Categorical Resampling Probability']}, \"\n",
    "          f\"SHAP Infidelity: {result['SHAP Infidelity']:.4f}, \"\n",
    "          f\"Shapley Value Sampling Infidelity: {result['Shapley Value Sampling Infidelity']:.4f}, \"\n",
    "          f\"DeepLIFT Infidelity: {result['DeepLIFT Infidelity']:.4f}\")"
   ]
  },
  {
   "cell_type": "markdown",
   "id": "611be864-83ac-467c-8925-e5dfa6927463",
   "metadata": {},
   "source": [
    "**Task 2(d)**: Evaluate the computational efficiency of the different methods by taking the following steps: <br />\n",
    "**(i)** Preproccess the [Dry Bean Dataset](https://archive.ics.uci.edu/dataset/602/dry+bean+dataset), similarly to what we have done for Titanic. You can find the description of the different features on the dataset webpage along with the instructions on how to import the data in a Python environment. You do not need to perform any exploratory data analysis for this dataset. <br />\n",
    "**(ii)** Train an additional neural model on the preprocessed data. Briefly report the key performance metrics for the model in your report. <br />\n",
    "**(iii)** Compute the runtimes required to produce the attribution scores for the different methods when considering the first 200 samples in the Titanic and Dry Bean test sets. Report the results in a table in your report. Which methods seem to be the most/least computationally efficient?"
   ]
  },
  {
   "cell_type": "code",
   "execution_count": 92,
   "id": "d411bc2f-3ece-4352-8e2f-66c771e5916e",
   "metadata": {},
   "outputs": [],
   "source": [
    "from ucimlrepo import fetch_ucirepo \n",
    "  \n",
    "# fetch dataset \n",
    "dry_bean = fetch_ucirepo(id=602) \n",
    "  \n",
    "# data (as pandas dataframes) \n",
    "X = dry_bean.data.features \n",
    "y = dry_bean.data.targets \n"
   ]
  },
  {
   "cell_type": "code",
   "execution_count": 93,
   "id": "9bb44d4d",
   "metadata": {},
   "outputs": [
    {
     "name": "stdout",
     "output_type": "stream",
     "text": [
      "Training dataset size: 10888\n",
      "Testing dataset size: 2723\n",
      "Features: ['num__Area' 'num__Perimeter' 'num__MajorAxisLength'\n",
      " 'num__MinorAxisLength' 'num__AspectRatio' 'num__Eccentricity'\n",
      " 'num__ConvexArea' 'num__EquivDiameter' 'num__Extent' 'num__Solidity'\n",
      " 'num__Roundness']\n"
     ]
    },
    {
     "name": "stderr",
     "output_type": "stream",
     "text": [
      "c:\\Users\\SUNITA\\anaconda3\\lib\\site-packages\\sklearn\\preprocessing\\_label.py:114: DataConversionWarning: A column-vector y was passed when a 1d array was expected. Please change the shape of y to (n_samples, ), for example using ravel().\n",
      "  y = column_or_1d(y, warn=True)\n"
     ]
    }
   ],
   "source": [
    "import numpy as np\n",
    "import pandas as pd\n",
    "import warnings\n",
    "from sklearn.compose import ColumnTransformer\n",
    "from sklearn.pipeline import Pipeline\n",
    "from sklearn.preprocessing import RobustScaler\n",
    "from sklearn.utils import resample\n",
    "from sklearn.model_selection import train_test_split\n",
    "from torch.utils.data import Dataset, DataLoader\n",
    "import torch\n",
    "from ucimlrepo import fetch_ucirepo\n",
    "\n",
    "# Fetch the Dry Bean Dataset\n",
    "dry_bean = fetch_ucirepo(id=602)\n",
    "X = dry_bean.data.features\n",
    "y = dry_bean.data.targets\n",
    "\n",
    "X = X.iloc[:, :11]\n",
    "# Convert target labels to numerical values (if necessary)\n",
    "from sklearn.preprocessing import LabelEncoder\n",
    "label_encoder = LabelEncoder()\n",
    "y = label_encoder.fit_transform(y)\n",
    "\n",
    "# Define the DryBeanDataset class\n",
    "class DryBeanDataset(Dataset):\n",
    "    __create_key = object()\n",
    "\n",
    "    @classmethod\n",
    "    def create_datasets(\n",
    "        cls,\n",
    "        label_name=\"Class\",\n",
    "        split_seed=42,\n",
    "        test_size=0.2,\n",
    "    ):\n",
    "        train_dataset_beans = DryBeanDataset(\n",
    "            cls.__create_key,\n",
    "            label_name=label_name,\n",
    "            split_seed=split_seed,\n",
    "            test_size=test_size,\n",
    "            train=True,\n",
    "        )\n",
    "        test_dataset_beans = DryBeanDataset(\n",
    "            cls.__create_key,\n",
    "            label_name=label_name,\n",
    "            split_seed=split_seed,\n",
    "            test_size=test_size,\n",
    "            train=False,\n",
    "        )\n",
    "        return train_dataset_beans, test_dataset_beans\n",
    "\n",
    "    def __init__(\n",
    "        self,\n",
    "        create_key=None,\n",
    "        label_name=\"Class\",\n",
    "        split_seed=42,\n",
    "        test_size=0.2,\n",
    "        train=True,\n",
    "    ):\n",
    "        if create_key != DryBeanDataset.__create_key:\n",
    "            raise ValueError(\n",
    "                \"Illegal initialisation attempt — please use create_datasets to initialise.\"\n",
    "            )\n",
    "\n",
    "        # Split the dataset into train and test\n",
    "        x_train, x_test, y_train, y_test = train_test_split(\n",
    "            X, y, test_size=test_size, random_state=split_seed, shuffle=True\n",
    "        )\n",
    "        if train:\n",
    "            self.raw_data = x_train, y_train\n",
    "        else:\n",
    "            self.raw_data = x_test, y_test\n",
    "\n",
    "        # Preprocess the data\n",
    "        x_train_processed, preprocessor = preprocess_train_data(\n",
    "            x_train, scaled_features=X.columns.tolist()\n",
    "        )\n",
    "        x_train = pd.DataFrame(\n",
    "            x_train_processed, columns=preprocessor.get_feature_names_out()\n",
    "        )\n",
    "        x_test_processed = preprocess_test_data(x_test, preprocessor)\n",
    "        x_test = pd.DataFrame(\n",
    "            x_test_processed, columns=preprocessor.get_feature_names_out()\n",
    "        )\n",
    "\n",
    "        # Select data partition and convert to tensors\n",
    "        if train:\n",
    "            samples = x_train\n",
    "            labels = y_train\n",
    "        else:\n",
    "            samples = x_test\n",
    "            labels = y_test\n",
    "        self.samples = torch.tensor(samples.to_numpy(), dtype=torch.float32)\n",
    "        self.labels = torch.tensor(labels, dtype=torch.long)\n",
    "        self.features = preprocessor.get_feature_names_out()\n",
    "        self.preprocessor = preprocessor\n",
    "\n",
    "    def __len__(self):\n",
    "        return len(self.samples)\n",
    "\n",
    "    def __getitem__(self, idx):\n",
    "        return self.samples[idx], self.labels[idx]\n",
    "\n",
    "# Preprocessing functions\n",
    "def preprocess_train_data(\n",
    "    df,\n",
    "    scaled_features=None,\n",
    "    categorical_features=None,\n",
    "    scaler=RobustScaler(quantile_range=(10, 90)),\n",
    "):\n",
    "    if scaled_features is None and categorical_features is None:\n",
    "        warnings.warn(\"No features specified for preprocessing, using raw data.\")\n",
    "        scaled_features = []\n",
    "        categorical_features = []\n",
    "    elif scaled_features is None:\n",
    "        scaled_features = [c for c in df.columns if c not in categorical_features]\n",
    "    elif categorical_features is None:\n",
    "        categorical_features = [c for c in df.columns if c not in scaled_features]\n",
    "\n",
    "    preprocessor = ColumnTransformer(\n",
    "        transformers=[\n",
    "            (\"num\", scaler, scaled_features),\n",
    "        ],\n",
    "        remainder=\"passthrough\",\n",
    "    )\n",
    "\n",
    "    preprocessed_df = preprocessor.fit_transform(df)\n",
    "    return preprocessed_df, preprocessor\n",
    "\n",
    "def preprocess_test_data(df, preprocessor):\n",
    "    preprocessed_df = preprocessor.transform(df)\n",
    "    return preprocessed_df\n",
    "\n",
    "# Create datasets and dataloaders\n",
    "train_dataset_beans, test_dataset_beans = DryBeanDataset.create_datasets(\n",
    "    test_size=0.2,\n",
    "    split_seed=42,\n",
    ")\n",
    "train_dl_beans = DataLoader(\n",
    "    dataset=train_dataset_beans,\n",
    "    batch_size=128,\n",
    "    shuffle=False,\n",
    ")\n",
    "test_dl_beans = DataLoader(\n",
    "    dataset=test_dataset_beans,\n",
    "    batch_size=64,\n",
    "    shuffle=False,\n",
    ")\n",
    "\n",
    "# Print dataset details\n",
    "print(\"Training dataset size:\", len(train_dataset_beans))\n",
    "print(\"Testing dataset size:\", len(test_dataset_beans))\n",
    "print(\"Features:\", train_dataset_beans.features)"
   ]
  },
  {
   "cell_type": "code",
   "execution_count": null,
   "id": "9f8992b2",
   "metadata": {},
   "outputs": [
    {
     "data": {
      "text/plain": [
       "tensor([[ 0.0000, -0.3548,  0.0000,  ..., -0.0940,  0.0000,  1.0000],\n",
       "        [-0.5000,  0.2581,  0.0000,  ..., -0.0570,  0.0000,  1.0000],\n",
       "        [-1.0000, -0.3226,  0.0000,  ...,  0.9276,  1.0000,  0.0000],\n",
       "        ...,\n",
       "        [ 0.0000,  0.0161,  0.0000,  ...,  0.0228,  0.0000,  1.0000],\n",
       "        [ 0.0000, -0.0645,  0.0000,  ..., -0.0936,  1.0000,  0.0000],\n",
       "        [ 0.0000,  0.0000,  0.0000,  ..., -0.0940,  1.0000,  0.0000]])"
      ]
     },
     "execution_count": 94,
     "metadata": {},
     "output_type": "execute_result"
    }
   ],
   "source": [
    "train_dataset.samples # To observe the number of samples in train_dataset"
   ]
  },
  {
   "cell_type": "code",
   "execution_count": 95,
   "id": "fcc89acb",
   "metadata": {},
   "outputs": [
    {
     "name": "stdout",
     "output_type": "stream",
     "text": [
      "Epoch [1/20], Loss: 1.0659\n",
      "Epoch [2/20], Loss: 0.4969\n",
      "Epoch [3/20], Loss: 0.2944\n",
      "Epoch [4/20], Loss: 0.2082\n",
      "Epoch [5/20], Loss: 0.1716\n",
      "Epoch [6/20], Loss: 0.1532\n",
      "Epoch [7/20], Loss: 0.1428\n",
      "Epoch [8/20], Loss: 0.1363\n",
      "Epoch [9/20], Loss: 0.1320\n",
      "Epoch [10/20], Loss: 0.1288\n",
      "Epoch [11/20], Loss: 0.1264\n",
      "Epoch [12/20], Loss: 0.1246\n",
      "Epoch [13/20], Loss: 0.1231\n",
      "Epoch [14/20], Loss: 0.1219\n",
      "Epoch [15/20], Loss: 0.1209\n",
      "Epoch [16/20], Loss: 0.1199\n",
      "Epoch [17/20], Loss: 0.1191\n",
      "Epoch [18/20], Loss: 0.1185\n",
      "Epoch [19/20], Loss: 0.1180\n",
      "Epoch [20/20], Loss: 0.1176\n",
      "Test Loss: 0.2210\n",
      "Test Accuracy: 92.25%\n",
      "Test F1 Score: 0.9225\n",
      "Test AUC Score: 0.9946\n"
     ]
    }
   ],
   "source": [
    "import torch\n",
    "import torch.nn as nn\n",
    "import torch.optim as optim\n",
    "from torch.utils.data import DataLoader\n",
    "from sklearn.metrics import accuracy_score, f1_score, roc_auc_score\n",
    "\n",
    "# Define the Neural Network Model\n",
    "class DryBeanClassifier(nn.Module):\n",
    "    def __init__(self, input_size, hidden_size, num_classes):\n",
    "        super(DryBeanClassifier, self).__init__()\n",
    "        self.fc1 = nn.Linear(input_size, hidden_size)\n",
    "        self.relu = nn.ReLU()\n",
    "        self.fc2 = nn.Linear(hidden_size, num_classes)\n",
    "\n",
    "    def forward(self, x):\n",
    "        out = self.fc1(x)\n",
    "        out = self.relu(out)\n",
    "        out = self.fc2(out)\n",
    "        return out\n",
    "\n",
    "# Hyperparameters\n",
    "input_size = len(train_dataset_beans.features)  # Number of features\n",
    "hidden_size = 64  # Number of neurons in the hidden layer\n",
    "num_classes = 7  # Number of classes in the Dry Bean Dataset\n",
    "learning_rate = 0.001\n",
    "num_epochs = 20\n",
    "batch_size = 128\n",
    "\n",
    "# Initialize the model, loss function, and optimizer\n",
    "model_bean = DryBeanClassifier(input_size, hidden_size, num_classes)\n",
    "criterion = nn.CrossEntropyLoss()\n",
    "optimizer = optim.Adam(model_bean.parameters(), lr=learning_rate)\n",
    "\n",
    "# Training Loop\n",
    "for epoch in range(num_epochs):\n",
    "    model.train()  # Set the model to training mode\n",
    "    for i, (inputs, labels) in enumerate(train_dl_beans):\n",
    "        # Forward pass\n",
    "        outputs = model_bean(inputs)\n",
    "        loss = criterion(outputs, labels)\n",
    "\n",
    "        # Backward pass and optimization\n",
    "        optimizer.zero_grad()\n",
    "        loss.backward()\n",
    "        optimizer.step()\n",
    "\n",
    "    # Print loss for every epoch\n",
    "    print(f\"Epoch [{epoch+1}/{num_epochs}], Loss: {loss.item():.4f}\")\n",
    "\n",
    "# Evaluation\n",
    "model_bean.eval()  # Set the model to evaluation mode\n",
    "all_preds = []\n",
    "all_labels = []\n",
    "all_probs = []\n",
    "total_loss = 0\n",
    "num_batches = 0\n",
    "\n",
    "with torch.no_grad():\n",
    "    for inputs, labels in test_dl_beans:\n",
    "        outputs = model_bean(inputs)\n",
    "        loss = criterion(outputs, labels)\n",
    "        total_loss += loss.item()\n",
    "        num_batches += 1\n",
    "        _, preds = torch.max(outputs, 1)  # Get the predicted class\n",
    "        all_preds.extend(preds.cpu().numpy())\n",
    "        all_labels.extend(labels.cpu().numpy())\n",
    "        probs = torch.softmax(outputs, dim=1)\n",
    "        all_probs.extend(probs.cpu().numpy())\n",
    "\n",
    "# Calculate metrics\n",
    "avg_loss = total_loss / num_batches\n",
    "accuracy = accuracy_score(all_labels, all_preds)\n",
    "f1 = f1_score(all_labels, all_preds, average=\"weighted\")\n",
    "\n",
    "# Compute AUC (only if num_classes > 2)\n",
    "if num_classes > 2:\n",
    "    auc = roc_auc_score(all_labels, all_probs, multi_class=\"ovr\")\n",
    "else:\n",
    "    auc = roc_auc_score(all_labels, [p[1] for p in all_probs])  # Binary case\n",
    "\n",
    "# Print results\n",
    "print(f\"Test Loss: {avg_loss:.4f}\")\n",
    "print(f\"Test Accuracy: {accuracy * 100:.2f}%\")\n",
    "print(f\"Test F1 Score: {f1:.4f}\")\n",
    "print(f\"Test AUC Score: {auc:.4f}\")"
   ]
  },
  {
   "cell_type": "code",
   "execution_count": null,
   "id": "9a70b83f",
   "metadata": {},
   "outputs": [
    {
     "name": "stderr",
     "output_type": "stream",
     "text": [
      "c:\\Users\\SUNITA\\anaconda3\\lib\\site-packages\\captum\\_utils\\gradient.py:57: UserWarning: Input Tensor 0 did not already require gradients, required_grads has been set automatically.\n",
      "  warnings.warn(\n",
      "c:\\Users\\SUNITA\\anaconda3\\lib\\site-packages\\captum\\attr\\_core\\deep_lift.py:304: UserWarning: Setting forward, backward hooks and attributes on non-linear\n",
      "               activations. The hooks and attributes will be removed\n",
      "            after the attribution is finished\n",
      "  warnings.warn(\n"
     ]
    }
   ],
   "source": [
    "# Import necessary libraries\n",
    "import time\n",
    "import numpy as np\n",
    "import torch\n",
    "from captum.attr import IntegratedGradients\n",
    "\n",
    "# Define a function to measure the runtime of a method\n",
    "\n",
    "def measure_runtime(method, *args, **kwargs):\n",
    "    # Record the start time\n",
    "    start_time = time.time()\n",
    "    # Execute the method with the given arguments\n",
    "    result = method(*args, **kwargs)\n",
    "    # Record the end time\n",
    "    end_time = time.time()\n",
    "    # Return the result and the time it took to execute the method\n",
    "    return result, end_time - start_time\n",
    "\n",
    "# Select subsets of the Titanic dataset (200 samples for selected and the rest for background)\n",
    "selected_samples_titanic = test_dataset.samples[:200]\n",
    "background_samples_titanic = test_dataset.samples[200:]\n",
    "\n",
    "# Select subsets of the Bean dataset (200 samples for selected and the rest for background)\n",
    "selected_samples_bean = test_dataset_beans.samples[:200]\n",
    "background_samples_beans = test_dataset_beans.samples[200:]\n",
    "\n",
    "# Define the feature IDs to be used for attributions \n",
    "feature_ids = [0, 1, 2, 3, 4, 5, 5]\n",
    "\n",
    "# Create a feature mask tensor that will be passed to the methods, with the specified features\n",
    "feature_mask = torch.tensor([[0, 1, 2, 3, 4, 5, 5]]).to(DEVICE)\n",
    "\n",
    "# Initialize a baseline tensor for the Titanic dataset, with all values set to zero\n",
    "baseline_titanic = torch.zeros_like(selected_samples_titanic)\n",
    "\n",
    "# Compute runtimes and attributions for each method on the Titanic dataset\n",
    "# 1. SHAP method\n",
    "shap_titanic, shap_time_titanic = measure_runtime(shap_attribute, model, selected_samples_titanic, background_samples_titanic, feature_ids)\n",
    "\n",
    "# 2. SVS method using Captum's attribute function\n",
    "svs_titanic, svs_time_titanic = measure_runtime(svs.attribute, selected_samples_titanic, target=0, feature_mask=feature_mask, baselines=baseline_titanic)\n",
    "\n",
    "# 3. DeepLIFT method using Captum's attribute function\n",
    "dl_titanic, dl_time_titanic = measure_runtime(deep_lift.attribute, selected_samples_titanic, target=0, baselines=baseline_titanic)\n"
   ]
  },
  {
   "cell_type": "code",
   "execution_count": null,
   "id": "718ca539",
   "metadata": {},
   "outputs": [],
   "source": [
    "# Define the feature IDs to be used for attribution (from 0 to 10 for 11 features)\n",
    "feature_ids = [0, 1, 2, 3, 4, 5, 6, 7, 8, 9, 10]\n",
    "\n",
    "# Convert feature_ids into a tensor and move it to the specified device (e.g., GPU or CPU)\n",
    "feature_mask = torch.tensor([feature_ids]).to(DEVICE)\n",
    "\n",
    "# Initialize a baseline tensor for the Bean dataset, with all values set to zero\n",
    "baseline_beans = torch.zeros_like(selected_samples_bean)\n",
    "\n",
    "# Initialize Shapley Value Sampling (SVS) method for the Bean model\n",
    "svs1 = ShapleyValueSampling(model_bean)\n",
    "\n",
    "# Initialize DeepLift method for the Bean model\n",
    "deep_lift1 = DeepLift(model_bean)\n"
   ]
  },
  {
   "cell_type": "code",
   "execution_count": 39,
   "id": "f4c89575",
   "metadata": {},
   "outputs": [],
   "source": [
    "shap_beans, shap_time_beans = measure_runtime(shap_attribute, model_bean, selected_samples_bean, background_samples_beans, feature_ids)"
   ]
  },
  {
   "cell_type": "code",
   "execution_count": null,
   "id": "a63ceaef",
   "metadata": {},
   "outputs": [],
   "source": [
    "svs_bean, svs_time_bean= measure_runtime(svs1.attribute, selected_samples_bean, target=0, feature_mask=feature_mask, baselines=baseline_beans)\n",
    "dl_bean, dl_time_bean = measure_runtime(deep_lift1.attribute, selected_samples_bean, target=0, baselines=baseline_beans)"
   ]
  },
  {
   "cell_type": "code",
   "execution_count": null,
   "id": "9575b682",
   "metadata": {},
   "outputs": [
    {
     "name": "stdout",
     "output_type": "stream",
     "text": [
      "     Method  Titanic Runtime (s)  Dry Bean Runtime (s)\n",
      "0      SHAP           108.801288            800.770918\n",
      "1       SVS             0.096668              0.139512\n",
      "2  DeepLift             0.009530              0.007002\n"
     ]
    }
   ],
   "source": [
    "# Create a table of results\n",
    "\n",
    "results = {\n",
    "    \"Method\": [\"SHAP\", \"SVS\", \"DeepLift\"],\n",
    "    \"Titanic Runtime (s)\": [shap_time_titanic, svs_time_titanic, dl_time_titanic],\n",
    "    \"Dry Bean Runtime (s)\": [shap_time_beans, svs_time_bean, dl_time_bean],\n",
    "}\n",
    "\n",
    "# Print the table\n",
    "import pandas as pd\n",
    "results_df = pd.DataFrame(results)\n",
    "print(results_df)"
   ]
  },
  {
   "cell_type": "markdown",
   "id": "37ec783c-e350-473e-b3e1-140095ebed53",
   "metadata": {},
   "source": [
    "## Counterfactual Explanations"
   ]
  },
  {
   "cell_type": "markdown",
   "id": "5eb92884-22cd-46e4-824d-8354e35ce856",
   "metadata": {},
   "source": [
    "### Designing a Distance Metric"
   ]
  },
  {
   "cell_type": "markdown",
   "id": "128f2aac-ad49-4a47-a74a-21158879f06d",
   "metadata": {},
   "source": [
    "**Task 3(a)**: First, we need to specify a suitable distance metric for measuring the closeness between the points. Depending on the dataset, one could choose the standard distance functions like the Manhattan (L1) distance, Euclidean (L2) distance, and more specialised ones like Gower distance for better handling datasets with both categorical and continuous dataset. However, the design of distance metric can be very flexible. For example, the standard L1 distance is (k is the number of features) $$d_{L1}(x, x') = \\sum_{i}^{k} |x_i-x'_i|$$\n",
    "\n",
    "If the features have different value ranges, we could normalise the L1 distance with the maximum and minimum values of each feature (indexed $i$) in the training dataset, $max_i$, $min_i$ : $$d_{L1, normalised}(x, x') = \\sum_{i}^{k} |(x_i-x'_i)/(max_i-min_i)|$$\n",
    "\n",
    "On top of this, we could also add customised weighting factors $\\mathbf{w}=w_1, ..., w_k$ to capture the importance of each feature, and the weighted L1 distance is: $$d_{L1, normalised, weighted}(x, x') = \\sum_{i}^{k} w_i|(x_i-x'_i)/(max_i-min_i)|$$\n",
    "\n",
    "Given the background above, we want to design a distance function for the preprocessed version of our Titanic dataset. Explore the dataset characteristics and answer the following questions:\n",
    "**a)** Briefly discuss the weighting of each input variable in the preprocessed dataset, if we use standard L1 and normalised L1?\n",
    "**b)** If we want to treat each feature equally in the original unprocessed dataset, how would you design the distance metric for the preprocessed dataset using L1-based distance? Write down the detail of your distance function for the preprocessed dataset and justify why each original feature is treated equally.\n",
    "**c)** Implement your distance function below"
   ]
  },
  {
   "cell_type": "code",
   "execution_count": null,
   "id": "fc535906",
   "metadata": {},
   "outputs": [
    {
     "name": "stdout",
     "output_type": "stream",
     "text": [
      "torch.Size([1309, 7])\n",
      "tensor([[ 0.0000, -0.3548,  0.0000,  ..., -0.0940,  0.0000,  1.0000],\n",
      "        [-0.5000,  0.2581,  0.0000,  ..., -0.0570,  0.0000,  1.0000],\n",
      "        [-1.0000, -0.3226,  0.0000,  ...,  0.9276,  1.0000,  0.0000],\n",
      "        ...,\n",
      "        [ 0.0000, -0.2258,  0.0000,  ..., -0.0975,  1.0000,  0.0000],\n",
      "        [-1.0000,  0.7097,  1.0000,  ...,  2.8049,  0.0000,  1.0000],\n",
      "        [-1.0000, -0.1290,  0.0000,  ...,  0.4984,  1.0000,  0.0000]])\n"
     ]
    }
   ],
   "source": [
    "train_dataset.samples[:10]\n",
    "print(whole_dataset.shape)  # Check the combined shape\n",
    "print(whole_dataset)"
   ]
  },
  {
   "cell_type": "code",
   "execution_count": 43,
   "id": "e3fd9846",
   "metadata": {},
   "outputs": [
    {
     "name": "stdout",
     "output_type": "stream",
     "text": [
      "Feature Ranges:\n",
      "Feature 0: Min = -1.0, Max = 0.0\n",
      "Feature 1: Min = -0.89784836769104, Max = 1.6774193048477173\n",
      "Feature 2: Min = 0.0, Max = 8.0\n",
      "Feature 3: Min = 0.0, Max = 4.5\n",
      "Feature 4: Min = -0.20644983649253845, Max = 7.088052272796631\n",
      "Feature 5: Min = 0.0, Max = 1.0\n",
      "Feature 6: Min = 0.0, Max = 1.0\n",
      "[(-1.0, 0.0), (-0.89784836769104, 1.6774193048477173), (0.0, 8.0), (0.0, 4.5), (-0.20644983649253845, 7.088052272796631), (0.0, 1.0), (0.0, 1.0)]\n"
     ]
    }
   ],
   "source": [
    "def calculate_feature_ranges(dataset):\n",
    "    \"\"\"\n",
    "    Calculates the minimum and maximum values for each feature in a dataset.\n",
    "\n",
    "    Args:\n",
    "        dataset (Tensor): A 2D tensor where each row represents a data point\n",
    "                          and each column represents a feature.\n",
    "\n",
    "    Returns:\n",
    "        list of tuples: A list where each element is a tuple (min, max) representing\n",
    "                        the range for the corresponding feature.  Returns None if\n",
    "                        the dataset is empty.\n",
    "    \"\"\"\n",
    "\n",
    "    if dataset.numel() == 0:  # Check if the dataset is empty\n",
    "        return None\n",
    "\n",
    "    num_features = dataset.shape[1]\n",
    "    feature_ranges = []\n",
    "\n",
    "    for i in range(num_features):\n",
    "        min_val = torch.min(dataset[:, i])  # Minimum value of the i-th feature\n",
    "        max_val = torch.max(dataset[:, i])  # Maximum value of the i-th feature\n",
    "        feature_ranges.append((min_val.item(), max_val.item())) # .item() to get the numerical value\n",
    "\n",
    "    return feature_ranges\n",
    "\n",
    "\n",
    "# Example Usage (assuming 'whole_dataset' is your tensor):\n",
    "feature_ranges = calculate_feature_ranges(whole_dataset)\n",
    "\n",
    "if feature_ranges:\n",
    "    print(\"Feature Ranges:\")\n",
    "    for i, (min_val, max_val) in enumerate(feature_ranges):\n",
    "        print(f\"Feature {i}: Min = {min_val}, Max = {max_val}\")\n",
    "\n",
    "print(feature_ranges)"
   ]
  },
  {
   "cell_type": "code",
   "execution_count": 44,
   "id": "2b077fa1-b082-438a-806b-119714ca33eb",
   "metadata": {},
   "outputs": [
    {
     "name": "stdout",
     "output_type": "stream",
     "text": [
      "tensor(2.3748)\n"
     ]
    }
   ],
   "source": [
    "def distance_function(x1, x2, feature_ranges):\n",
    "    \"\"\"\n",
    "    Your distance function with weighted features.\n",
    "\n",
    "    Args:\n",
    "        x1 (Tensor): A 1-d array of shape (k,)\n",
    "        x2 (Tensor): A 1-d array of shape (k,)\n",
    "        feature_ranges (list or tuple of tuples): Min/max ranges for each feature.\n",
    "\n",
    "    Returns:\n",
    "        distance (float): A real number >= 0\n",
    "    \"\"\"\n",
    "\n",
    "    if len(x1) != len(x2) or len(x1) != len(feature_ranges):\n",
    "        raise ValueError(\"Input tensors and feature ranges must have the same length.\")\n",
    "\n",
    "    distance = 0\n",
    "    for i in range(len(x1)):\n",
    "        min_val, max_val = feature_ranges[i]\n",
    "\n",
    "        normalized_diff = abs(x1[i] - x2[i]) / (max_val - min_val) if max_val != min_val else abs(x1[i] - x2[i])\n",
    "        \n",
    "        weight = 1.0  # Default weight\n",
    "        if i >= len(x1) - 2:  # Last two features\n",
    "            weight = 0.5\n",
    "\n",
    "        distance += weight * normalized_diff\n",
    "\n",
    "    return distance\n",
    "\n",
    "\n",
    "x1 = whole_dataset[0]\n",
    "x2 = whole_dataset[2]\n",
    "\n",
    "distance = distance_function(x1, x2, feature_ranges)\n",
    "print(distance)"
   ]
  },
  {
   "cell_type": "markdown",
   "id": "df345ad0-6bdb-47b9-abf9-598c23a963c4",
   "metadata": {},
   "source": [
    "### Nearest-Neighbour Counterfactual Explanations (NNCE)\n",
    "\n",
    "**Task 3(b)**: As introduced in the tutorial, NNCEs are a simple yet effective method for finding counterfactuals. Implement the NNCE functions.\n",
    "\n",
    "Instructions:\n",
    "1. determine desired label for the counterfactual\n",
    "2. find the dataset points with desired label as predicted by the model\n",
    "3. find the point with the minimum distance and return it as NNCE"
   ]
  },
  {
   "cell_type": "code",
   "execution_count": 45,
   "id": "47409a30-fbad-4371-99d6-b87d30cd6590",
   "metadata": {},
   "outputs": [],
   "source": [
    "def compute_nnce(x, m, train_set, dist):\n",
    "    \"\"\"\n",
    "    Function to compute NNCE.\n",
    "\n",
    "    Parameters:\n",
    "        x (Tensor): Input, a 1-d array of shape (k,)\n",
    "        m (Sequential): Our neural network\n",
    "        train_set (TitanicDataset): Our Titanic dataset\n",
    "        dist (function): Your previously implemented distance function\n",
    "\n",
    "    Returns:\n",
    "        nnce (Tensor): Nearest neighbour counterfactual explanation, an 1-d array of shape (k,)\n",
    "    \"\"\"\n",
    "    # Step 1: Determine the predicted label for the input instance\n",
    "    m.eval()  # Set the model to evaluation mode\n",
    "    with torch.no_grad():\n",
    "        pred = m(x.unsqueeze(0))  # Add batch dimension\n",
    "        pred_label = (pred > 0.5).int().item()  # Convert probability to binary label\n",
    "\n",
    "    # Step 2: Find candidate counterfactuals with the opposite label\n",
    "    candidates = []\n",
    "    for i in range(len(train_set)):\n",
    "        x_i, y_i = train_set[i]  # Get the i-th sample from the training set\n",
    "        with torch.no_grad():\n",
    "            pred_i = m(x_i.unsqueeze(0))  # Predict label for the candidate\n",
    "            pred_label_i = (pred_i > 0.5).int().item()  # Convert probability to binary label\n",
    "\n",
    "        # If the candidate has the opposite label, add it to the list\n",
    "        if pred_label_i != pred_label:\n",
    "            d = dist(x, x_i, feature_ranges)  # Compute distance to the input instance\n",
    "            candidates.append((x_i, d))  # Store the candidate and its distance\n",
    "\n",
    "    # Step 3: Find the candidate with the minimum distance\n",
    "    if not candidates:\n",
    "        raise ValueError(\"No counterfactual found in the training set.\")\n",
    "\n",
    "    # Sort candidates by distance and select the nearest one\n",
    "    candidates.sort(key=lambda x: x[1])  # Sort by distance\n",
    "    nnce = candidates[0][0]  # Select the nearest counterfactual\n",
    "\n",
    "    return nnce"
   ]
  },
  {
   "cell_type": "code",
   "execution_count": 46,
   "id": "07e25d4e-eb20-4a62-a468-64ce6834d6ad",
   "metadata": {},
   "outputs": [
    {
     "name": "stdout",
     "output_type": "stream",
     "text": [
      "tensor([0.0082], grad_fn=<SigmoidBackward0>)\n",
      "tensor([0.6953], grad_fn=<SigmoidBackward0>)\n"
     ]
    }
   ],
   "source": [
    "# use this code block to test if your function is working\n",
    "# first print out the original input's prediction result\n",
    "test_input = test_dataset.samples.to(DEVICE)[0]\n",
    "print(model(test_input))\n",
    "\n",
    "# now compute NNCE and print out the NNCE's prediction result. Ideally this is different from the result for the original input.\n",
    "nnce = compute_nnce(test_input, model, train_set=train_dataset, dist=distance_function)\n",
    "print(model(nnce))"
   ]
  },
  {
   "cell_type": "markdown",
   "id": "a3c6290a-7c2b-4064-8ed0-3a4056bac9dc",
   "metadata": {},
   "source": [
    "### Gradient-Based Counterfactual Explanations\n",
    "\n",
    "**Task 3(c)**: Complete the PyTorch implementation for the gradient-based method in [Wachter et al. 2017]: WAC.\n",
    "\n",
    "Instructions:\n",
    "1. We are going to optimise the following loss function to find a counterfactual x': $  argmin_{x'} \\text{ } BCE(y', (1-y)) + \\lambda cost(x, x')$, where $BCE$ is binary cross entropy loss, $y'$ is the predicted label of $x'$, $y$ is the predicted label of $x$, $cost(,)$ is your chosen distance function in Task 1, and $\\lambda$ is the trade-off parameter between validity and proximity. First, implement your chosen distance metric in ```CostLoss.forward()```\n",
    "2. Follow the code structure in the ```compute_wac()``` function, complete the implementation.\n",
    "    2.1. specify the target label for the counterfactual\n",
    "    2.2. implement gradient descent procedures"
   ]
  },
  {
   "cell_type": "code",
   "execution_count": null,
   "id": "cee23134",
   "metadata": {},
   "outputs": [
    {
     "data": {
      "text/plain": [
       "[(-1.0, 0.0),\n",
       " (-0.89784836769104, 1.6774193048477173),\n",
       " (0.0, 8.0),\n",
       " (0.0, 4.5),\n",
       " (-0.20644983649253845, 7.088052272796631),\n",
       " (0.0, 1.0),\n",
       " (0.0, 1.0)]"
      ]
     },
     "execution_count": 47,
     "metadata": {},
     "output_type": "execute_result"
    }
   ],
   "source": [
    "feature_ranges # Print the min and max values for each feature"
   ]
  },
  {
   "cell_type": "code",
   "execution_count": 48,
   "id": "aa6aae81-d6bb-4037-810d-198c00143334",
   "metadata": {},
   "outputs": [],
   "source": [
    "import torch.nn as nn\n",
    "\n",
    "\n",
    "class CostLoss(nn.Module):\n",
    "    def __init__(self, weight=None, size_average=True):\n",
    "        super(CostLoss, self).__init__()\n",
    "\n",
    "    def forward(self, x1, x2):\n",
    "        \"\"\"\n",
    "        The PyTorch version of your distance function\n",
    "\n",
    "        Parameters:\n",
    "            x1 (Tensor): A 1-d array of shape (k,)\n",
    "            x2 (Tensor): A 1-d array of shape (k,)\n",
    "\n",
    "        Returns:\n",
    "            distance (Tensor): a real number\n",
    "        \"\"\"\n",
    "        # TODO: Here is an example of standard L1 loss, replace it with your designed distance function in Task 1\n",
    "        dist = distance_function(x1, x2, feature_ranges)\n",
    "        return dist"
   ]
  },
  {
   "cell_type": "code",
   "execution_count": null,
   "id": "eb8ae1f7-8c47-4a71-a817-2f22d48a64b1",
   "metadata": {},
   "outputs": [],
   "source": [
    "from torch.autograd import Variable\n",
    "from torch.optim import Adam\n",
    "import datetime\n",
    "\n",
    "def compute_wac(x, m, lamb=0.1, lr=0.01, max_iter=1000, max_allowed_minutes=0.5):\n",
    "    \"\"\"\n",
    "    Function to find WAC using gradient descent.\n",
    "\n",
    "    Parameters:\n",
    "        x (Tensor): Input x, an 1-d array of shape (k,)\n",
    "        m (Sequential): PyTorch model\n",
    "        lamb (float): Lambda, the tradeoff term in the loss function\n",
    "        lr (float): Learning rate for gradient descent\n",
    "        max_iter (int): maximum allowed iteration\n",
    "        max_allowed_minutes (float): maximum allowed minutes\n",
    "\n",
    "    Returns:\n",
    "        counterfactual (Tensor): Counterfactual point, an 1-d array of shape (k,)\n",
    "    \"\"\"\n",
    "    # initialise the counterfactual search at the input point\n",
    "    x = x.to(DEVICE)\n",
    "    wac = Variable(x.clone(), requires_grad=True).to(DEVICE)\n",
    "\n",
    "    # initialise an optimiser for gradient descent over the wac counterfactual point\n",
    "    optimiser = Adam([wac], lr, amsgrad=True)\n",
    "\n",
    "    # instantiate the two components of the loss function\n",
    "    validity_loss = torch.nn.BCELoss()\n",
    "    cost_loss = CostLoss()\n",
    "\n",
    "    # TASK: specify target label y: either 0 or 1, depending on the original prediction\n",
    "    # TODO: Start your code here\n",
    "    m.eval()  # Set the model to evaluation mode\n",
    "    with torch.no_grad():\n",
    "        pred = m(x.unsqueeze(0))  # Add batch dimension\n",
    "        pred_label = (pred > 0.5).int().item()  # Convert probability to binary label\n",
    "        y_target = torch.Tensor([1 - pred_label]).to(DEVICE)  # Opposite label\n",
    "\n",
    "\n",
    "    # the total loss in the instructions: loss = validity_loss + lamb * cost_loss\n",
    "    # TODO: End your code here\n",
    "\n",
    "    # Compute class probability\n",
    "    class_prob = m(wac)\n",
    "    wac_valid = False\n",
    "    iterations = 0\n",
    "\n",
    "    # Set maximum allowed time for computing 1 counterfactual\n",
    "    t0 = datetime.datetime.now()\n",
    "    t_max = datetime.timedelta(minutes=max_allowed_minutes)\n",
    "\n",
    "    # Start gradient descent\n",
    "    while not wac_valid and iterations <= max_iter:\n",
    "        optimiser.zero_grad()\n",
    "\n",
    "        # Compute the predicted label for the current counterfactual\n",
    "        class_prob = m(wac)\n",
    "\n",
    "        # Compute the validity loss (binary cross-entropy)\n",
    "        validity = validity_loss(class_prob, y_target)\n",
    "\n",
    "        # Compute the cost loss (distance to the original input)\n",
    "        cost = cost_loss.forward(wac, x)\n",
    "\n",
    "        # Compute the total loss\n",
    "        loss = validity + lamb * cost\n",
    "\n",
    "        # Perform gradient descent\n",
    "        loss.backward()\n",
    "        optimiser.step()\n",
    "\n",
    "        # Check if the counterfactual is valid\n",
    "        if y_target == 0 and class_prob < 0.5 or y_target == 1 and class_prob >= 0.5:\n",
    "            wac_valid = True\n",
    "\n",
    "        # Break if the maximum allowed time is exceeded\n",
    "        if datetime.datetime.now() - t0 > t_max:\n",
    "            break\n",
    "\n",
    "        iterations += 1\n",
    "\n",
    "    return wac    \n"
   ]
  },
  {
   "cell_type": "code",
   "execution_count": 50,
   "id": "3730ddc2-6dbe-46a2-8bf3-e833800c52ef",
   "metadata": {},
   "outputs": [
    {
     "name": "stdout",
     "output_type": "stream",
     "text": [
      "tensor([0.0141], grad_fn=<SigmoidBackward0>)\n",
      "explainantion tensor([ 0.0824, -0.1583,  1.0694,  0.4331,  0.0700,  0.0300,  0.9164],\n",
      "       requires_grad=True)\n",
      "tensor([0.7658], grad_fn=<SigmoidBackward0>)\n"
     ]
    }
   ],
   "source": [
    "# use this code block to test if your function is working\n",
    "# first print out the original input's prediction result\n",
    "test_input = test_dataset.samples.to(DEVICE)[1]\n",
    "print(model(test_input))\n",
    "\n",
    "# now compute WAC and print out the WAC's prediction result. Ideally this is different from the result for the original input.\n",
    "nnce = compute_wac(test_input, model)\n",
    "print(\"explainantion\", nnce)\n",
    "print(model(nnce))"
   ]
  },
  {
   "cell_type": "markdown",
   "id": "9fb7d395-b999-4100-85dd-7b5eed5c57d7",
   "metadata": {},
   "source": [
    "### Performance of the Two Methods\n",
    "\n",
    "**Task 3(d)**: In order to understand better how these two methods compare, we use the following metrics to quantitatively evaluate each of the methods:\n",
    "- Validity: percentage of the counterfactuals that are valid.\n",
    "- Proximity: average distance between the counterfactuals and the inputs. Smaller distance (lower cost) indicates better proximity.\n",
    "- Plausibility: average distance of a counterfactual to its 5 nearest neighbours in the training dataset, further averaged over all counterfactuals. The closer it is to the nearest neighbours, the more plausible. Consider this metric as a simplified version of Local Outlier Factor.\n",
    "\n",
    "For each counterfactual method, we randomly select 20 test inputs, generate counterfactuals for them, and compare the average performances for each of the metrics.\n",
    "We repeat this process for 5 times and calculate the mean and standard deviation of each metrics. We have provided code for these experiments. Complete the following codes for calculating the evaluation metrics:"
   ]
  },
  {
   "cell_type": "code",
   "execution_count": 51,
   "id": "4847e8d0-c76c-462d-a986-ccd2dc300e49",
   "metadata": {},
   "outputs": [],
   "source": [
    "def calculate_three_metrics_for_group_of_inputs(inputs, m, counterfactuals, train_set, dist):\n",
    "    validity, proximity, plausibility = 0, 0, 0\n",
    "    # examine validity, proximity, plausibility for each input-counterfactual pair\n",
    "    for i, x in enumerate(inputs):\n",
    "        ce = counterfactuals[i]\n",
    "\n",
    "        this_val = calculate_validity(x, ce, m)\n",
    "        this_prox = calculate_proximity(x, ce, dist)\n",
    "        this_plaus = calculate_plausibility(ce, train_set, dist)\n",
    "\n",
    "        validity += this_val\n",
    "        proximity += this_prox\n",
    "        plausibility += this_plaus\n",
    "\n",
    "    # average evaluation metrics over all the test inputs\n",
    "    validity = validity / len(inputs)\n",
    "    proximity = proximity / len(inputs)\n",
    "    plausibility = plausibility / len(inputs)\n",
    "    return validity, proximity, plausibility\n",
    "\n",
    "\n",
    "# TASK: for each input-counterfactual pair, calculate validity, proximity, and plausibility\n",
    "\n",
    "# check whether a counterfactual ce is valid or not\n",
    "def calculate_validity(x, ce, m):\n",
    "    \"\"\"\n",
    "    Check whether a counterfactual is valid.\n",
    "\n",
    "    Parameters:\n",
    "        x (Tensor): Input, a 1-d array of shape (k,)\n",
    "        ce (Tensor): Counterfactual, a 1-d array of shape (k,)\n",
    "        m (Sequential): PyTorch model\n",
    "\n",
    "    Returns:\n",
    "        validity (int): 1 if valid, 0 otherwise\n",
    "    \"\"\"\n",
    "    # TODO: Your code here\n",
    "    m.eval()  # Set the model to evaluation mode\n",
    "    with torch.no_grad():\n",
    "        pred_x = m(x.unsqueeze(0))  # Predict label for the input\n",
    "        pred_ce = m(ce.unsqueeze(0))  # Predict label for the counterfactual\n",
    "\n",
    "        # Convert probabilities to binary labels\n",
    "        label_x = (pred_x > 0.5).int().item()\n",
    "        label_ce = (pred_ce > 0.5).int().item()\n",
    "\n",
    "        # Check if the counterfactual has the opposite label\n",
    "        if label_ce != label_x:\n",
    "            return 1  # Valid\n",
    "        else:\n",
    "            return 0  # Invalid   \n",
    "    \n",
    "\n",
    "# check the distance between a counterfactual and the input\n",
    "def calculate_proximity(x, ce, dist):\n",
    "    \"\"\"\n",
    "    Calculate the distance between the input and the counterfactual.\n",
    "\n",
    "    Parameters:\n",
    "        x (Tensor): Input, a 1-d array of shape (k,)\n",
    "        ce (Tensor): Counterfactual, a 1-d array of shape (k,)\n",
    "        dist (function): Distance function\n",
    "\n",
    "    Returns:\n",
    "        proximity (float): Distance between x and ce\n",
    "    \"\"\"\n",
    "    # TODO: Your code here\n",
    "\n",
    "    return dist(x, ce, feature_ranges).item()\n",
    "\n",
    "# calculate plausibility of a counterfactual\n",
    "def calculate_plausibility(ce, train_set, dist):\n",
    "    \"\"\"\n",
    "    Calculate the plausibility of a counterfactual.\n",
    "\n",
    "    Parameters:\n",
    "        ce (Tensor): Counterfactual, a 1-d array of shape (k,)\n",
    "        train_set (TitanicDataset): Training dataset\n",
    "        dist (function): Distance function\n",
    "\n",
    "    Returns:\n",
    "        plausibility (float): Average distance to 5 nearest neighbours\n",
    "    \"\"\"\n",
    "\n",
    "    # here, calculate the average distance between the counterfactual and its 5 nearest neighbours in the training dataset\n",
    "    \n",
    "    # TODO: Your code here\n",
    "    distances = []\n",
    "    for i in range(len(train_set)):\n",
    "        x_i, _ = train_set[i]  # Get the i-th sample from the training set\n",
    "        d = dist(ce, x_i, feature_ranges)  # Compute distance to the counterfactual\n",
    "        distances.append((x_i, d.item()))\n",
    "\n",
    "    # Sort by distance and select the 5 nearest neighbours\n",
    "    distances.sort(key=lambda x: x[1])\n",
    "    nearest_neighbours = distances[:5]\n",
    "\n",
    "    # Calculate the average distance to the 5 nearest neighbours\n",
    "    avg_distance = sum(d for _, d in nearest_neighbours) / 5\n",
    "    return avg_distance    \n",
    " "
   ]
  },
  {
   "cell_type": "markdown",
   "id": "fd1cb9d3-cb0b-4473-b7d2-166e76032c61",
   "metadata": {},
   "source": [
    "Now we set up the experiments, compute counterfactuals using NNCE and WAC, then evaluate and compare their performances. Note that depending on your machine, the computation for ```compute_wac()``` could potentially be slow. You can also manually change the function's hyperparameters ```lamb=0.1, lr=0.01, max_iter=1000``` to try and see if WAC could give better results."
   ]
  },
  {
   "cell_type": "code",
   "execution_count": 52,
   "id": "9d10f578-a107-4fc5-8a33-246018d9b6c6",
   "metadata": {},
   "outputs": [
    {
     "data": {
      "application/vnd.jupyter.widget-view+json": {
       "model_id": "683f70777c3d4413a446895824918711",
       "version_major": 2,
       "version_minor": 0
      },
      "text/plain": [
       "  0%|          | 0/5 [00:00<?, ?it/s]"
      ]
     },
     "metadata": {},
     "output_type": "display_data"
    },
    {
     "data": {
      "application/vnd.jupyter.widget-view+json": {
       "model_id": "28e3f25e9a01471188944d6dd09e5043",
       "version_major": 2,
       "version_minor": 0
      },
      "text/plain": [
       "  0%|          | 0/1 [00:00<?, ?it/s]"
      ]
     },
     "metadata": {},
     "output_type": "display_data"
    },
    {
     "data": {
      "application/vnd.jupyter.widget-view+json": {
       "model_id": "5ad18c025b124e33adefa5085e752e5d",
       "version_major": 2,
       "version_minor": 0
      },
      "text/plain": [
       "  0%|          | 0/20 [00:00<?, ?it/s]"
      ]
     },
     "metadata": {},
     "output_type": "display_data"
    },
    {
     "data": {
      "application/vnd.jupyter.widget-view+json": {
       "model_id": "f65610c6943a451aa6c94617099c0061",
       "version_major": 2,
       "version_minor": 0
      },
      "text/plain": [
       "  0%|          | 0/1 [00:00<?, ?it/s]"
      ]
     },
     "metadata": {},
     "output_type": "display_data"
    },
    {
     "data": {
      "application/vnd.jupyter.widget-view+json": {
       "model_id": "9c4759d842a44327a902054c61601579",
       "version_major": 2,
       "version_minor": 0
      },
      "text/plain": [
       "  0%|          | 0/20 [00:00<?, ?it/s]"
      ]
     },
     "metadata": {},
     "output_type": "display_data"
    },
    {
     "data": {
      "application/vnd.jupyter.widget-view+json": {
       "model_id": "357a2a7ca72f4c938d4e1fefcd85d0e4",
       "version_major": 2,
       "version_minor": 0
      },
      "text/plain": [
       "  0%|          | 0/1 [00:00<?, ?it/s]"
      ]
     },
     "metadata": {},
     "output_type": "display_data"
    },
    {
     "data": {
      "application/vnd.jupyter.widget-view+json": {
       "model_id": "f8f96a6e61334914a8e303894c59c436",
       "version_major": 2,
       "version_minor": 0
      },
      "text/plain": [
       "  0%|          | 0/20 [00:00<?, ?it/s]"
      ]
     },
     "metadata": {},
     "output_type": "display_data"
    },
    {
     "data": {
      "application/vnd.jupyter.widget-view+json": {
       "model_id": "aecf27f89e51447da9ed3d5c9ca3a103",
       "version_major": 2,
       "version_minor": 0
      },
      "text/plain": [
       "  0%|          | 0/1 [00:00<?, ?it/s]"
      ]
     },
     "metadata": {},
     "output_type": "display_data"
    },
    {
     "data": {
      "application/vnd.jupyter.widget-view+json": {
       "model_id": "2ba6bcad0d9340b3b72029d6511afdf2",
       "version_major": 2,
       "version_minor": 0
      },
      "text/plain": [
       "  0%|          | 0/20 [00:00<?, ?it/s]"
      ]
     },
     "metadata": {},
     "output_type": "display_data"
    },
    {
     "data": {
      "application/vnd.jupyter.widget-view+json": {
       "model_id": "123bf85c6f3443e69abe330c8ab0342e",
       "version_major": 2,
       "version_minor": 0
      },
      "text/plain": [
       "  0%|          | 0/1 [00:00<?, ?it/s]"
      ]
     },
     "metadata": {},
     "output_type": "display_data"
    },
    {
     "data": {
      "application/vnd.jupyter.widget-view+json": {
       "model_id": "bf84beb8f26e4c80b18dfd664be3a2b1",
       "version_major": 2,
       "version_minor": 0
      },
      "text/plain": [
       "  0%|          | 0/20 [00:00<?, ?it/s]"
      ]
     },
     "metadata": {},
     "output_type": "display_data"
    },
    {
     "name": "stdout",
     "output_type": "stream",
     "text": [
      "+----------+---------------+---------------+----------------+\n",
      "| method   | validity      | cost          | plausibility   |\n",
      "+==========+===============+===============+================+\n",
      "| NNCE     | 1.0 +- 0.0    | 0.137 +- 0.02 | 0.035 +- 0.004 |\n",
      "| WAC      | 0.85 +- 0.095 | 0.14 +- 0.037 | 0.17 +- 0.032  |\n",
      "+----------+---------------+---------------+----------------+\n"
     ]
    }
   ],
   "source": [
    "# we store the evaluation results of the five runs in lists\n",
    "nnce_validity, nnce_proximity, nnce_plausibility = [], [], []\n",
    "wac_validity, wac_proximity, wac_plausibility = [], [], []\n",
    "seed_num = 1000\n",
    "\n",
    "# repeat over 5 runs to obtain more robust evaluations\n",
    "for one_run in tqdm(range(5)):\n",
    "    # randomly select 20 test inputs\n",
    "    np.random.seed(seed_num)\n",
    "    test_inputs = test_dataset.samples[np.random.choice(range(len(test_dataset.samples)), 20)]\n",
    "    nnce_counterfactuals, wac_counterfactuals = [], []\n",
    "    # generate counterfactuals\n",
    "    with tqdm(total=1, position=0, leave=True) as pbar:\n",
    "        for x in tqdm(test_inputs, position=0, leave=True):\n",
    "            nnce_counterfactuals.append(compute_nnce(x, model, train_dataset, distance_function))\n",
    "            wac_counterfactuals.append(compute_wac(x, model, lamb=0.1))\n",
    "            pbar.update()\n",
    "\n",
    "    # evaluate counterfactuals\n",
    "    nnvalidity, nnproximity, nnplausibility = calculate_three_metrics_for_group_of_inputs(test_inputs, model,\n",
    "                                                                                          nnce_counterfactuals,\n",
    "                                                                                          train_dataset,\n",
    "                                                                                          distance_function)\n",
    "    nnce_validity.append(nnvalidity)\n",
    "    nnce_proximity.append(nnproximity)\n",
    "    nnce_plausibility.append(nnplausibility)\n",
    "\n",
    "    wvalidity, wproximity, wplausibility = calculate_three_metrics_for_group_of_inputs(test_inputs, model,\n",
    "                                                                                       wac_counterfactuals,\n",
    "                                                                                       train_dataset, distance_function)\n",
    "    wac_validity.append(wvalidity)\n",
    "    wac_proximity.append(wproximity)\n",
    "    wac_plausibility.append(wplausibility)\n",
    "\n",
    "    seed_num += 10\n",
    "\n",
    "# now print out the results\n",
    "from tabulate import tabulate\n",
    "\n",
    "score_names = [\"method\", \"validity\", \"cost\", \"plausibility\"]\n",
    "score_table = [score_names,\n",
    "               [\"NNCE\", f\"{np.mean(nnce_validity).round(3)} +- {np.std(nnce_validity).round(3)}\",\n",
    "                f\"{np.mean(nnce_proximity).round(3)} +- {np.std(nnce_proximity).round(3)}\",\n",
    "                f\"{np.mean(nnce_plausibility).round(3)} +- {np.std(nnce_plausibility).round(3)}\"],\n",
    "               [\"WAC\", f\"{np.mean(wac_validity).round(3)} +- {np.std(wac_validity).round(3)}\",\n",
    "                f\"{np.mean(wac_proximity).round(3)} +- {np.std(wac_proximity).round(3)}\",\n",
    "                f\"{np.mean(wac_plausibility).round(3)} +- {np.std(wac_plausibility).round(3)}\"]]\n",
    "print(tabulate(score_table, headers='firstrow', tablefmt='outline'))"
   ]
  },
  {
   "cell_type": "markdown",
   "id": "2474358c-0c66-444a-b528-d4e99f1d4e78",
   "metadata": {},
   "source": [
    "### Performance Differences\n",
    "\n",
    "**Task 3(e)**: Discuss in your report commenting their performance based on the metrics. Link the findings to their theories."
   ]
  },
  {
   "cell_type": "code",
   "execution_count": 123,
   "id": "51359d95",
   "metadata": {},
   "outputs": [
    {
     "name": "stdout",
     "output_type": "stream",
     "text": [
      "nnce [tensor([-0.5000,  0.1935,  0.0000,  0.0000, -0.0214,  0.0000,  1.0000]), tensor([-1.0000,  0.2581,  0.0000,  0.0000,  0.2446,  1.0000,  0.0000]), tensor([-0.5000, -0.0645,  1.0000,  0.5000,  0.2064,  0.0000,  1.0000]), tensor([0.0000, 0.0000, 0.0000, 0.0000, 0.5979, 0.0000, 1.0000]), tensor([ 0.0000, -0.1290,  0.0000,  0.0000, -0.0961,  1.0000,  0.0000]), tensor([ 0.0000, -0.0968,  1.0000,  0.0000, -0.0958,  0.0000,  1.0000]), tensor([-1.0000,  0.2581,  0.0000,  0.0000,  0.2446,  1.0000,  0.0000]), tensor([0.0000, 0.0000, 1.0000, 0.5000, 0.0106, 0.0000, 1.0000]), tensor([ 0.0000, -0.1290,  0.0000,  0.0000, -0.0961,  1.0000,  0.0000]), tensor([-1.0000,  0.1613,  0.0000,  0.0000,  0.1716,  0.0000,  1.0000]), tensor([ 0.0000, -0.4516,  0.0000,  0.0000, -0.0751,  0.0000,  1.0000]), tensor([ 0.0000,  0.0000,  0.0000,  0.0000, -0.0965,  1.0000,  0.0000]), tensor([-0.5000, -0.3226,  1.0000,  0.5000, -0.0214,  1.0000,  0.0000]), tensor([ 0.0000,  0.2903,  0.0000,  0.0000, -0.0699,  1.0000,  0.0000]), tensor([ 0.0000, -0.8790,  1.0000,  0.5000, -0.0103,  0.0000,  1.0000]), tensor([-1.0000,  0.2581,  0.0000,  0.0000,  0.2446,  1.0000,  0.0000]), tensor([-1.0000,  0.2581,  0.0000,  0.0000,  0.2446,  1.0000,  0.0000]), tensor([0.0000, 0.0000, 0.0000, 0.0000, 0.5979, 0.0000, 1.0000]), tensor([-1.0000,  0.2581,  0.0000,  0.0000,  0.2446,  1.0000,  0.0000]), tensor([ 0.0000, -0.3871,  0.0000,  0.0000, -0.0961,  1.0000,  0.0000])]\n",
      "wac [tensor([-0.4534,  1.1751, -0.0783, -0.0724,  0.0180,  0.0783,  0.9213],\n",
      "       requires_grad=True), tensor([-1.0000,  0.0000,  0.0000,  0.0000,  0.9212,  1.0000,  0.0000],\n",
      "       requires_grad=True), tensor([-0.5227, -0.1551,  2.0431,  0.5135, -0.0705,  0.0607,  0.9121],\n",
      "       requires_grad=True), tensor([ 0.0369,  0.0491,  0.0116,  0.0478, -0.0566,  0.0424,  0.9542],\n",
      "       requires_grad=True), tensor([ 0.0174, -0.1433,  0.0178, -0.0180, -0.0807,  1.0185,  0.0175],\n",
      "       requires_grad=True), tensor([ 3.9199e-02, -8.9786e-02,  2.1461e-04, -4.8793e-03, -1.0347e-01,\n",
      "         3.0647e-02,  1.0243e+00], requires_grad=True), tensor([-1.0000,  0.3548,  1.0000,  0.5000,  0.9776,  1.0000,  0.0000],\n",
      "       requires_grad=True), tensor([ 0.0824, -0.1583,  1.0694,  0.4331,  0.0700,  0.0300,  0.9164],\n",
      "       requires_grad=True), tensor([ 0.0172, -0.1436,  0.0176, -0.0178, -0.0757,  1.0182,  0.0173],\n",
      "       requires_grad=True), tensor([-1.0276,  0.1980, -0.0243, -0.0280,  0.1407, -0.0284,  1.0277],\n",
      "       requires_grad=True), tensor([ 0.0669, -0.1693,  0.0747,  0.0257, -0.1025,  0.0644,  0.9893],\n",
      "       requires_grad=True), tensor([ 0.0196,  0.0199, -0.0186, -0.0195, -0.0843,  1.0192, -0.0172],\n",
      "       requires_grad=True), tensor([-0.5000, -0.8065,  1.0000,  1.0000,  0.3856,  1.0000,  0.0000],\n",
      "       requires_grad=True), tensor([ 0.0181,  0.2725,  0.0180,  0.0171, -0.0779,  1.0180,  0.0180],\n",
      "       requires_grad=True), tensor([ 0.0729, -0.7936,  1.0696,  1.0749,  0.0113,  0.0642,  1.0757],\n",
      "       requires_grad=True), tensor([-1.0000,  0.2903,  1.0000,  0.0000,  1.0750,  1.0000,  0.0000],\n",
      "       requires_grad=True), tensor([-1.0000,  0.1613,  1.0000,  0.0000,  0.5496,  1.0000,  0.0000],\n",
      "       requires_grad=True), tensor([ 0.0369,  0.0491,  0.0116,  0.0478, -0.0566,  0.0424,  0.9542],\n",
      "       requires_grad=True), tensor([-1.0000,  0.4194,  0.0000,  0.0000,  1.7086,  1.0000,  0.0000],\n",
      "       requires_grad=True), tensor([-0.0382, -0.3568, -0.0328, -0.0115, -0.0570,  1.0355,  0.0384],\n",
      "       requires_grad=True)]\n"
     ]
    }
   ],
   "source": [
    "print(\"nnce\", nnce_counterfactuals)\n",
    "print(\"wac\", wac_counterfactuals)"
   ]
  }
 ],
 "metadata": {
  "kernelspec": {
   "display_name": "base",
   "language": "python",
   "name": "python3"
  },
  "language_info": {
   "codemirror_mode": {
    "name": "ipython",
    "version": 3
   },
   "file_extension": ".py",
   "mimetype": "text/x-python",
   "name": "python",
   "nbconvert_exporter": "python",
   "pygments_lexer": "ipython3",
   "version": "3.10.9"
  }
 },
 "nbformat": 4,
 "nbformat_minor": 5
}
